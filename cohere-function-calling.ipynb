{
 "cells": [
  {
   "cell_type": "code",
   "execution_count": null,
   "metadata": {
    "trusted": true
   },
   "outputs": [],
   "source": [
    "!pip install langchain cohere\n",
    "!pip install langchain_community\n",
    "!pip install langchain_cohere"
   ]
  },
  {
   "cell_type": "code",
   "execution_count": 1,
   "metadata": {
    "execution": {
     "iopub.execute_input": "2024-11-20T13:49:43.070302Z",
     "iopub.status.busy": "2024-11-20T13:49:43.069650Z",
     "iopub.status.idle": "2024-11-20T13:49:46.280526Z",
     "shell.execute_reply": "2024-11-20T13:49:46.279474Z",
     "shell.execute_reply.started": "2024-11-20T13:49:43.070266Z"
    },
    "trusted": true
   },
   "outputs": [],
   "source": [
    "import cohere\n",
    "from langchain_cohere import ChatCohere"
   ]
  },
  {
   "cell_type": "code",
   "execution_count": null,
   "metadata": {
    "execution": {
     "iopub.execute_input": "2024-11-20T13:49:57.373903Z",
     "iopub.status.busy": "2024-11-20T13:49:57.372928Z",
     "iopub.status.idle": "2024-11-20T13:49:57.397224Z",
     "shell.execute_reply": "2024-11-20T13:49:57.396629Z",
     "shell.execute_reply.started": "2024-11-20T13:49:57.373868Z"
    },
    "trusted": true
   },
   "outputs": [],
   "source": [
    "cohere_api_key = 'api_key'\n",
    "\n",
    "llm = ChatCohere(\n",
    "    cohere_api_key=cohere_api_key, \n",
    "    model='command-r-plus', \n",
    "    temprature=0.1\n",
    ")"
   ]
  },
  {
   "cell_type": "code",
   "execution_count": 3,
   "metadata": {
    "execution": {
     "iopub.execute_input": "2024-11-20T14:04:22.645155Z",
     "iopub.status.busy": "2024-11-20T14:04:22.644339Z",
     "iopub.status.idle": "2024-11-20T14:04:22.650042Z",
     "shell.execute_reply": "2024-11-20T14:04:22.649151Z",
     "shell.execute_reply.started": "2024-11-20T14:04:22.645122Z"
    },
    "trusted": true
   },
   "outputs": [],
   "source": [
    "system_message = (\"\"\"\n",
    "شما به عنوان یک دستیار هوشمند بانکی عمل می‌کنید.\n",
    "\n",
    "وظیفه شما این است که نیت کاربر را تشخیص داده و اطلاعات مورد نیاز (اسلات‌ها) را استخراج کنید.\n",
    "\n",
    "پاسخ را به صورت دقیق و در قالب زیر ارائه دهید:\n",
    "\n",
    "نیت: [نیت کاربر]\n",
    "اسلات‌ها: [اسلات‌ها به صورت دیکشنری پایتون]\n",
    "\n",
    "اگر نیت یا اسلات‌ها را نمی‌توانید تشخیص دهید، بنویسید:\n",
    "\n",
    "نیت: نامشخص\n",
    "اسلات‌ها: '{{{{}}}}'\n",
    "\n",
    "مثال‌ها:\n",
    "\n",
    "کاربر: \"موجودی حسابم چقدره؟\"\n",
    "پاسخ:\n",
    "نیت: نمایش موجودی\n",
    "اسلات‌ها: '{{{{}}}}'\n",
    "\n",
    "کاربر: \"می‌خوام ۵۰۰,۰۰۰ ریال به حساب 1234567890 منتقل کنم.\"\n",
    "پاسخ:\n",
    "نیت: انتقال وجه\n",
    "اسلات‌ها: '{{{{'مبلغ': '۵۰۰,۰۰۰ ریال', 'شماره حساب مقصد': '1234567890'}}}}'\n",
    "\n",
    "کاربر: \"اپلیکیشن بانک همراه کار نمی‌کنه.\"\n",
    "پاسخ:\n",
    "نیت: رفع مشکل\n",
    "اسلات‌ها: '{{{{'شرح مشکل': 'اپلیکیشن بانک همراه کار نمی‌کند'}}}}'\n",
    "\n",
    "غیر از این خروجی هیچ خروجی دیگری نده\n",
    "\"\"\")"
   ]
  },
  {
   "cell_type": "code",
   "execution_count": 4,
   "metadata": {
    "execution": {
     "iopub.execute_input": "2024-11-20T14:04:23.421825Z",
     "iopub.status.busy": "2024-11-20T14:04:23.421477Z",
     "iopub.status.idle": "2024-11-20T14:04:23.427471Z",
     "shell.execute_reply": "2024-11-20T14:04:23.426646Z",
     "shell.execute_reply.started": "2024-11-20T14:04:23.421794Z"
    },
    "trusted": true
   },
   "outputs": [],
   "source": [
    "examples = [\n",
    "    {\n",
    "        \"question\": \"موجودی حسابم چقدره؟\",\n",
    "        \"intent\": \"نمایش موجودی\",\n",
    "        \"slots\": \"{}\"\n",
    "    },\n",
    "    {\n",
    "        \"question\": \"می‌خوام ۵۰۰,۰۰۰ ریال به حساب 1234567890 منتقل کنم.\",\n",
    "        \"intent\": \"انتقال وجه\",\n",
    "        \"slots\": \"{'مبلغ': '۵۰۰,۰۰۰ ریال', 'شماره حساب مقصد': '1234567890'}\"\n",
    "    },\n",
    "    {\n",
    "        \"question\": \"آخرین تراکنش‌هامو می‌خوام ببینم.\",\n",
    "        \"intent\": \"نمایش تاریخچه تراکنش‌ها\",\n",
    "        \"slots\": \"{}\"\n",
    "    },\n",
    "    {\n",
    "        \"question\": \"اپلیکیشن بانک همراه کار نمی‌کنه.\",\n",
    "        \"intent\": \"رفع مشکل\",\n",
    "        \"slots\": \"{'شرح مشکل': 'اپلیکیشن بانک همراه کار نمی‌کند'}\"\n",
    "    },\n",
    "    {\n",
    "        \"question\": \"چطور می‌تونم پول انتقال بدم؟\",\n",
    "        \"intent\": \"انتقال وجه\",\n",
    "        \"slots\": \"{}\"\n",
    "    },\n",
    "    {\n",
    "        \"question\": \"مشکل ورود به حساب دارم.\",\n",
    "        \"intent\": \"رفع مشکل\",\n",
    "        \"slots\": \"{'شرح مشکل': 'مشکل در ورود به حساب'}\"\n",
    "    },\n",
    "    {\n",
    "        \"question\": \"میرم داخل پروفایلم عکسمو نشون نمیده\",\n",
    "        \"intent\": \"رفع مشکل\",\n",
    "        \"slots\": \"{'شرح مشکل': 'مشکل در دیدن عکس پروفایل'}\"\n",
    "    },\n",
    "]\n"
   ]
  },
  {
   "cell_type": "code",
   "execution_count": 5,
   "metadata": {
    "execution": {
     "iopub.execute_input": "2024-11-20T14:04:24.306507Z",
     "iopub.status.busy": "2024-11-20T14:04:24.305947Z",
     "iopub.status.idle": "2024-11-20T14:04:24.312222Z",
     "shell.execute_reply": "2024-11-20T14:04:24.311506Z",
     "shell.execute_reply.started": "2024-11-20T14:04:24.306471Z"
    },
    "trusted": true
   },
   "outputs": [],
   "source": [
    "from langchain.prompts import ChatPromptTemplate\n",
    "from langchain.prompts import FewShotChatMessagePromptTemplate\n",
    "\n",
    "example_prompt = ChatPromptTemplate.from_messages(\n",
    "    [\n",
    "        (\"human\", \"{question}\"),\n",
    "        (\"ai\", \"نیت: {intent}\\nاسلات‌ها: {slots}\")\n",
    "    ]\n",
    ")"
   ]
  },
  {
   "cell_type": "code",
   "execution_count": 6,
   "metadata": {
    "execution": {
     "iopub.execute_input": "2024-11-20T14:04:24.838179Z",
     "iopub.status.busy": "2024-11-20T14:04:24.837841Z",
     "iopub.status.idle": "2024-11-20T14:04:24.842558Z",
     "shell.execute_reply": "2024-11-20T14:04:24.841656Z",
     "shell.execute_reply.started": "2024-11-20T14:04:24.838150Z"
    },
    "trusted": true
   },
   "outputs": [],
   "source": [
    "few_shot_prompt = FewShotChatMessagePromptTemplate(\n",
    "    example_prompt=example_prompt,\n",
    "    examples=examples,\n",
    ")"
   ]
  },
  {
   "cell_type": "code",
   "execution_count": 78,
   "metadata": {
    "execution": {
     "iopub.execute_input": "2024-11-20T14:53:25.717376Z",
     "iopub.status.busy": "2024-11-20T14:53:25.717043Z",
     "iopub.status.idle": "2024-11-20T14:53:25.722166Z",
     "shell.execute_reply": "2024-11-20T14:53:25.721325Z",
     "shell.execute_reply.started": "2024-11-20T14:53:25.717348Z"
    },
    "trusted": true
   },
   "outputs": [],
   "source": [
    "prompt_template = ChatPromptTemplate.from_messages([\n",
    "    (\"system\", system_message),\n",
    "    few_shot_prompt,\n",
    "    (\"human\", \"{question}\")\n",
    "])"
   ]
  },
  {
   "cell_type": "code",
   "execution_count": 116,
   "metadata": {
    "execution": {
     "iopub.execute_input": "2024-11-20T15:14:41.903677Z",
     "iopub.status.busy": "2024-11-20T15:14:41.903318Z",
     "iopub.status.idle": "2024-11-20T15:14:41.925172Z",
     "shell.execute_reply": "2024-11-20T15:14:41.924216Z",
     "shell.execute_reply.started": "2024-11-20T15:14:41.903646Z"
    },
    "trusted": true
   },
   "outputs": [],
   "source": [
    "from langchain.tools import tool\n",
    "\n",
    "@tool\n",
    "def get_balance_tool(account_id: str) -> dict:\n",
    "    \"\"\"مقدار موجودی کاربر را برمی گرداند\"\"\"\n",
    "    accounts = {\n",
    "        \"A1001\": {\"customer_id\": \"C1001\", \"balance\": 10000},\n",
    "        \"A1002\": {\"customer_id\": \"C1002\", \"balance\": 15000},\n",
    "    }\n",
    "    if account_id not in accounts:\n",
    "        return {\"error\": \"Account not found\"}\n",
    "    return {\"account_id\": account_id, \"balance\": accounts[account_id][\"balance\"]}\n",
    "\n",
    "@tool\n",
    "def transfer_funds_tool(from_account: str, to_account: str, amount: float) -> dict:\n",
    "    \"\"\"پول را از حساب شخص منتقل میکند به حساب شخص دیگر\"\"\"\n",
    "    accounts = {\n",
    "        \"A1001\": {\"customer_id\": \"C1001\", \"balance\": 10000000},\n",
    "        \"A1002\": {\"customer_id\": \"C1002\", \"balance\": 15000000},\n",
    "    }\n",
    "    if from_account not in accounts or to_account not in accounts:\n",
    "        return {\"error\": \"Invalid account details\"}\n",
    "    if accounts[from_account][\"balance\"] < amount:\n",
    "        return {\"error\": \"Insufficient funds\"}\n",
    "    \n",
    "    accounts[from_account][\"balance\"] -= amount\n",
    "    accounts[to_account][\"balance\"] += amount\n",
    "    \n",
    "    return {\n",
    "        \"status\": \"success\",\n",
    "        \"from_account_balance\": accounts[from_account][\"balance\"],\n",
    "        \"to_account_balance\": accounts[to_account][\"balance\"],\n",
    "    }\n",
    "\n",
    "transactions = [\n",
    "    {\"transaction_id\": \"T1001\", \"from_account\": \"A1001\", \"to_account\": \"A1002\", \"amount\": 2000, \"date\": \"2024-11-01\"},\n",
    "    {\"transaction_id\": \"T1002\", \"from_account\": \"A1002\", \"to_account\": \"A1001\", \"amount\": 1500, \"date\": \"2024-11-02\"},\n",
    "    {\"transaction_id\": \"T1003\", \"from_account\": \"A1001\", \"to_account\": \"A1003\", \"amount\": 3000, \"date\": \"2024-11-03\"},\n",
    "]\n",
    "\n",
    "@tool\n",
    "def transaction_history_tool(account_id: str) -> dict:\n",
    "    \"\"\"تاریخچه تراکنش‌های مربوط به یک کاربر خاص را برمی‌گرداند\"\"\"\n",
    "    filtered_transactions = [\n",
    "        transaction for transaction in transactions\n",
    "        if transaction[\"from_account\"] == account_id or transaction[\"to_account\"] == account_id\n",
    "    ]\n",
    "    \n",
    "    if not filtered_transactions:\n",
    "        return {\"error\": \"No transactions found for the given account\"}\n",
    "    \n",
    "    return {\"account_id\": account_id, \"transactions\": filtered_transactions}\n"
   ]
  },
  {
   "cell_type": "code",
   "execution_count": 118,
   "metadata": {
    "execution": {
     "iopub.execute_input": "2024-11-20T15:14:50.553523Z",
     "iopub.status.busy": "2024-11-20T15:14:50.552680Z",
     "iopub.status.idle": "2024-11-20T15:14:50.557201Z",
     "shell.execute_reply": "2024-11-20T15:14:50.556256Z",
     "shell.execute_reply.started": "2024-11-20T15:14:50.553489Z"
    },
    "trusted": true
   },
   "outputs": [],
   "source": [
    "tools = [get_balance_tool, transfer_funds_tool, transaction_history_tool]"
   ]
  },
  {
   "cell_type": "code",
   "execution_count": 119,
   "metadata": {
    "execution": {
     "iopub.execute_input": "2024-11-20T15:14:51.912123Z",
     "iopub.status.busy": "2024-11-20T15:14:51.911811Z",
     "iopub.status.idle": "2024-11-20T15:14:51.924688Z",
     "shell.execute_reply": "2024-11-20T15:14:51.923842Z",
     "shell.execute_reply.started": "2024-11-20T15:14:51.912098Z"
    },
    "trusted": true
   },
   "outputs": [],
   "source": [
    "from langchain.chains import LLMChain\n",
    "\n",
    "llm_with_tools = llm.bind_tools(tools)\n",
    "\n",
    "chain = prompt_template | llm_with_tools"
   ]
  },
  {
   "cell_type": "code",
   "execution_count": 120,
   "metadata": {
    "execution": {
     "iopub.execute_input": "2024-11-20T15:14:53.251167Z",
     "iopub.status.busy": "2024-11-20T15:14:53.250861Z",
     "iopub.status.idle": "2024-11-20T15:14:53.256227Z",
     "shell.execute_reply": "2024-11-20T15:14:53.255377Z",
     "shell.execute_reply.started": "2024-11-20T15:14:53.251142Z"
    },
    "trusted": true
   },
   "outputs": [],
   "source": [
    "def print_output(response):\n",
    "    if response[0]['name'] == \"get_balance_tool\":\n",
    "        return get_balance_tool(response[0]['args']['account_id'])\n",
    "    elif response[0]['name'] == \"transfer_funds_tool\":\n",
    "        return transfer_funds_tool({\n",
    "            \"from_account\": response[0]['args']['from_account'],\n",
    "            \"to_account\": response[0]['args']['to_account'],\n",
    "            \"amount\": response[0]['args']['amount']\n",
    "        })\n",
    "    elif response[0]['name'] == \"transaction_history_tool\":\n",
    "        return transaction_history_tool(response[0]['args']['account_id'])"
   ]
  },
  {
   "cell_type": "markdown",
   "metadata": {},
   "source": [
    "# مثال اول"
   ]
  },
  {
   "cell_type": "code",
   "execution_count": 121,
   "metadata": {
    "execution": {
     "iopub.execute_input": "2024-11-20T15:14:55.264495Z",
     "iopub.status.busy": "2024-11-20T15:14:55.263954Z",
     "iopub.status.idle": "2024-11-20T15:14:57.053273Z",
     "shell.execute_reply": "2024-11-20T15:14:57.052638Z",
     "shell.execute_reply.started": "2024-11-20T15:14:55.264463Z"
    },
    "trusted": true
   },
   "outputs": [],
   "source": [
    "prompt = \"موجودی A1001 بگو\"\n",
    "response = chain.invoke(prompt).tool_calls"
   ]
  },
  {
   "cell_type": "code",
   "execution_count": 122,
   "metadata": {
    "execution": {
     "iopub.execute_input": "2024-11-20T15:14:57.055241Z",
     "iopub.status.busy": "2024-11-20T15:14:57.054911Z",
     "iopub.status.idle": "2024-11-20T15:14:57.060661Z",
     "shell.execute_reply": "2024-11-20T15:14:57.059811Z",
     "shell.execute_reply.started": "2024-11-20T15:14:57.055206Z"
    },
    "trusted": true
   },
   "outputs": [
    {
     "data": {
      "text/plain": [
       "[{'name': 'get_balance_tool',\n",
       "  'args': {'account_id': 'A1001'},\n",
       "  'id': '7afeb5a04ba342d7811f56bd2ddd64b6',\n",
       "  'type': 'tool_call'}]"
      ]
     },
     "execution_count": 122,
     "metadata": {},
     "output_type": "execute_result"
    }
   ],
   "source": [
    "response"
   ]
  },
  {
   "cell_type": "code",
   "execution_count": 123,
   "metadata": {
    "execution": {
     "iopub.execute_input": "2024-11-20T15:14:57.061947Z",
     "iopub.status.busy": "2024-11-20T15:14:57.061702Z",
     "iopub.status.idle": "2024-11-20T15:14:57.075577Z",
     "shell.execute_reply": "2024-11-20T15:14:57.074832Z",
     "shell.execute_reply.started": "2024-11-20T15:14:57.061924Z"
    },
    "trusted": true
   },
   "outputs": [
    {
     "data": {
      "text/plain": [
       "{'account_id': 'A1001', 'balance': 10000}"
      ]
     },
     "execution_count": 123,
     "metadata": {},
     "output_type": "execute_result"
    }
   ],
   "source": [
    "print_output(response)"
   ]
  },
  {
   "cell_type": "markdown",
   "metadata": {},
   "source": [
    "# مثال دوم"
   ]
  },
  {
   "cell_type": "code",
   "execution_count": 124,
   "metadata": {
    "execution": {
     "iopub.execute_input": "2024-11-20T15:15:01.812761Z",
     "iopub.status.busy": "2024-11-20T15:15:01.812392Z",
     "iopub.status.idle": "2024-11-20T15:15:03.934098Z",
     "shell.execute_reply": "2024-11-20T15:15:03.933424Z",
     "shell.execute_reply.started": "2024-11-20T15:15:01.812728Z"
    },
    "trusted": true
   },
   "outputs": [],
   "source": [
    "prompt = \"1000 از حساب A1001 بزن ب حساب A1002\"\n",
    "response = chain.invoke(prompt).tool_calls"
   ]
  },
  {
   "cell_type": "code",
   "execution_count": 125,
   "metadata": {
    "execution": {
     "iopub.execute_input": "2024-11-20T15:15:03.935780Z",
     "iopub.status.busy": "2024-11-20T15:15:03.935479Z",
     "iopub.status.idle": "2024-11-20T15:15:03.941274Z",
     "shell.execute_reply": "2024-11-20T15:15:03.940435Z",
     "shell.execute_reply.started": "2024-11-20T15:15:03.935753Z"
    },
    "trusted": true
   },
   "outputs": [
    {
     "data": {
      "text/plain": [
       "[{'name': 'transfer_funds_tool',\n",
       "  'args': {'amount': 1000, 'from_account': 'A1001', 'to_account': 'A1002'},\n",
       "  'id': '6fe471d0570b43bbac571858cf90440c',\n",
       "  'type': 'tool_call'}]"
      ]
     },
     "execution_count": 125,
     "metadata": {},
     "output_type": "execute_result"
    }
   ],
   "source": [
    "response"
   ]
  },
  {
   "cell_type": "code",
   "execution_count": 126,
   "metadata": {
    "execution": {
     "iopub.execute_input": "2024-11-20T15:15:03.942441Z",
     "iopub.status.busy": "2024-11-20T15:15:03.942156Z",
     "iopub.status.idle": "2024-11-20T15:15:03.952246Z",
     "shell.execute_reply": "2024-11-20T15:15:03.951573Z",
     "shell.execute_reply.started": "2024-11-20T15:15:03.942411Z"
    },
    "trusted": true
   },
   "outputs": [
    {
     "data": {
      "text/plain": [
       "{'status': 'success',\n",
       " 'from_account_balance': 9999000.0,\n",
       " 'to_account_balance': 15001000.0}"
      ]
     },
     "execution_count": 126,
     "metadata": {},
     "output_type": "execute_result"
    }
   ],
   "source": [
    "print_output(response)"
   ]
  },
  {
   "cell_type": "markdown",
   "metadata": {},
   "source": [
    "# مثال سوم"
   ]
  },
  {
   "cell_type": "code",
   "execution_count": 127,
   "metadata": {
    "execution": {
     "iopub.execute_input": "2024-11-20T15:15:07.810164Z",
     "iopub.status.busy": "2024-11-20T15:15:07.809325Z",
     "iopub.status.idle": "2024-11-20T15:15:09.774648Z",
     "shell.execute_reply": "2024-11-20T15:15:09.773764Z",
     "shell.execute_reply.started": "2024-11-20T15:15:07.810128Z"
    },
    "trusted": true
   },
   "outputs": [],
   "source": [
    "prompt = \"تاریخچه تراکنش های کاربر A1001 بهم بده\"\n",
    "response = chain.invoke(prompt).tool_calls"
   ]
  },
  {
   "cell_type": "code",
   "execution_count": 128,
   "metadata": {
    "execution": {
     "iopub.execute_input": "2024-11-20T15:15:09.776302Z",
     "iopub.status.busy": "2024-11-20T15:15:09.776040Z",
     "iopub.status.idle": "2024-11-20T15:15:09.781545Z",
     "shell.execute_reply": "2024-11-20T15:15:09.780837Z",
     "shell.execute_reply.started": "2024-11-20T15:15:09.776276Z"
    },
    "trusted": true
   },
   "outputs": [
    {
     "data": {
      "text/plain": [
       "[{'name': 'transaction_history_tool',\n",
       "  'args': {'account_id': 'A1001'},\n",
       "  'id': 'cd3d915c94664593b098fc2e8411e862',\n",
       "  'type': 'tool_call'}]"
      ]
     },
     "execution_count": 128,
     "metadata": {},
     "output_type": "execute_result"
    }
   ],
   "source": [
    "response"
   ]
  },
  {
   "cell_type": "code",
   "execution_count": 129,
   "metadata": {
    "execution": {
     "iopub.execute_input": "2024-11-20T15:15:12.263325Z",
     "iopub.status.busy": "2024-11-20T15:15:12.262978Z",
     "iopub.status.idle": "2024-11-20T15:15:12.270080Z",
     "shell.execute_reply": "2024-11-20T15:15:12.269105Z",
     "shell.execute_reply.started": "2024-11-20T15:15:12.263293Z"
    },
    "trusted": true
   },
   "outputs": [
    {
     "data": {
      "text/plain": [
       "{'account_id': 'A1001',\n",
       " 'transactions': [{'transaction_id': 'T1001',\n",
       "   'from_account': 'A1001',\n",
       "   'to_account': 'A1002',\n",
       "   'amount': 2000,\n",
       "   'date': '2024-11-01'},\n",
       "  {'transaction_id': 'T1002',\n",
       "   'from_account': 'A1002',\n",
       "   'to_account': 'A1001',\n",
       "   'amount': 1500,\n",
       "   'date': '2024-11-02'},\n",
       "  {'transaction_id': 'T1003',\n",
       "   'from_account': 'A1001',\n",
       "   'to_account': 'A1003',\n",
       "   'amount': 3000,\n",
       "   'date': '2024-11-03'}]}"
      ]
     },
     "execution_count": 129,
     "metadata": {},
     "output_type": "execute_result"
    }
   ],
   "source": [
    "print_output(response)"
   ]
  },
  {
   "cell_type": "markdown",
   "metadata": {},
   "source": [
    "# مثال چهارم"
   ]
  },
  {
   "cell_type": "code",
   "execution_count": 130,
   "metadata": {
    "execution": {
     "iopub.execute_input": "2024-11-20T15:15:19.620943Z",
     "iopub.status.busy": "2024-11-20T15:15:19.620584Z",
     "iopub.status.idle": "2024-11-20T15:15:23.005336Z",
     "shell.execute_reply": "2024-11-20T15:15:23.004639Z",
     "shell.execute_reply.started": "2024-11-20T15:15:19.620916Z"
    },
    "trusted": true
   },
   "outputs": [],
   "source": [
    "prompt = \"وقتی کلیک میکنم هچی واسم نشون نمیده\"\n",
    "response = chain.invoke({\"question\":prompt})"
   ]
  },
  {
   "cell_type": "code",
   "execution_count": 132,
   "metadata": {
    "execution": {
     "iopub.execute_input": "2024-11-20T15:15:50.547243Z",
     "iopub.status.busy": "2024-11-20T15:15:50.546828Z",
     "iopub.status.idle": "2024-11-20T15:15:50.552102Z",
     "shell.execute_reply": "2024-11-20T15:15:50.551226Z",
     "shell.execute_reply.started": "2024-11-20T15:15:50.547208Z"
    },
    "trusted": true
   },
   "outputs": [
    {
     "name": "stdout",
     "output_type": "stream",
     "text": [
      "نیت: رفع مشکل\n",
      "اسلات‌ها: {'شرح مشکل': 'وقتی روی چیزی کلیک می‌کنم، چیزی نشان داده نمی‌شود'}\n"
     ]
    }
   ],
   "source": [
    "print(response.content)"
   ]
  },
  {
   "cell_type": "markdown",
   "metadata": {},
   "source": [
    "# مثال پنجم"
   ]
  },
  {
   "cell_type": "code",
   "execution_count": 139,
   "metadata": {
    "execution": {
     "iopub.execute_input": "2024-11-20T15:18:15.812548Z",
     "iopub.status.busy": "2024-11-20T15:18:15.811969Z",
     "iopub.status.idle": "2024-11-20T15:18:18.498620Z",
     "shell.execute_reply": "2024-11-20T15:18:18.497728Z",
     "shell.execute_reply.started": "2024-11-20T15:18:15.812515Z"
    },
    "trusted": true
   },
   "outputs": [],
   "source": [
    "prompt = \"پروفایلم سیاهه نشون نمیده انگار\"\n",
    "response = chain.invoke({\"question\":prompt})"
   ]
  },
  {
   "cell_type": "code",
   "execution_count": 140,
   "metadata": {
    "execution": {
     "iopub.execute_input": "2024-11-20T15:18:20.364480Z",
     "iopub.status.busy": "2024-11-20T15:18:20.363662Z",
     "iopub.status.idle": "2024-11-20T15:18:20.369658Z",
     "shell.execute_reply": "2024-11-20T15:18:20.368860Z",
     "shell.execute_reply.started": "2024-11-20T15:18:20.364444Z"
    },
    "trusted": true
   },
   "outputs": [
    {
     "data": {
      "text/plain": [
       "AIMessage(content=\"نیت: رفع مشکل\\nاسلات\\u200cها: {'شرح مشکل': 'پروفایل سیاه است'}\", additional_kwargs={'documents': None, 'citations': None, 'search_results': None, 'search_queries': None, 'is_search_required': None, 'generation_id': '0e696e26-3552-433a-99ba-7321ffc60c56', 'token_count': {'input_tokens': 1754.0, 'output_tokens': 65.0}}, response_metadata={'documents': None, 'citations': None, 'search_results': None, 'search_queries': None, 'is_search_required': None, 'generation_id': '0e696e26-3552-433a-99ba-7321ffc60c56', 'token_count': {'input_tokens': 1754.0, 'output_tokens': 65.0}}, id='run-3b840a0e-83c7-4ac7-81a3-5e4df93762ff-0', usage_metadata={'input_tokens': 1754, 'output_tokens': 65, 'total_tokens': 1819})"
      ]
     },
     "execution_count": 140,
     "metadata": {},
     "output_type": "execute_result"
    }
   ],
   "source": [
    "response"
   ]
  },
  {
   "cell_type": "code",
   "execution_count": 141,
   "metadata": {
    "execution": {
     "iopub.execute_input": "2024-11-20T15:18:22.721677Z",
     "iopub.status.busy": "2024-11-20T15:18:22.721324Z",
     "iopub.status.idle": "2024-11-20T15:18:22.726074Z",
     "shell.execute_reply": "2024-11-20T15:18:22.725242Z",
     "shell.execute_reply.started": "2024-11-20T15:18:22.721643Z"
    },
    "trusted": true
   },
   "outputs": [
    {
     "name": "stdout",
     "output_type": "stream",
     "text": [
      "نیت: رفع مشکل\n",
      "اسلات‌ها: {'شرح مشکل': 'پروفایل سیاه است'}\n"
     ]
    }
   ],
   "source": [
    "print(response.content)"
   ]
  }
 ],
 "metadata": {
  "kaggle": {
   "accelerator": "nvidiaTeslaT4",
   "dataSources": [],
   "dockerImageVersionId": 30787,
   "isGpuEnabled": true,
   "isInternetEnabled": true,
   "language": "python",
   "sourceType": "notebook"
  },
  "kernelspec": {
   "display_name": "Python 3",
   "language": "python",
   "name": "python3"
  },
  "language_info": {
   "codemirror_mode": {
    "name": "ipython",
    "version": 3
   },
   "file_extension": ".py",
   "mimetype": "text/x-python",
   "name": "python",
   "nbconvert_exporter": "python",
   "pygments_lexer": "ipython3",
   "version": "3.10.14"
  }
 },
 "nbformat": 4,
 "nbformat_minor": 4
}
