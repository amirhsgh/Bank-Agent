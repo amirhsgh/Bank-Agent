{
 "cells": [
  {
   "cell_type": "code",
   "execution_count": null,
   "metadata": {
    "trusted": true
   },
   "outputs": [],
   "source": [
    "# !pip install langchain_community transformers langchain\n",
    "# !pip install -U bitsandbytes"
   ]
  },
  {
   "cell_type": "code",
   "execution_count": null,
   "metadata": {
    "execution": {
     "iopub.execute_input": "2024-11-20T09:23:44.129812Z",
     "iopub.status.busy": "2024-11-20T09:23:44.129432Z",
     "iopub.status.idle": "2024-11-20T09:23:44.693857Z",
     "shell.execute_reply": "2024-11-20T09:23:44.693041Z",
     "shell.execute_reply.started": "2024-11-20T09:23:44.129775Z"
    },
    "trusted": true
   },
   "outputs": [
    {
     "name": "stdout",
     "output_type": "stream",
     "text": [
      "Token is valid (permission: fineGrained).\n",
      "\u001b[1m\u001b[31mCannot authenticate through git-credential as no helper is defined on your machine.\n",
      "You might have to re-authenticate when pushing to the Hugging Face Hub.\n",
      "Run the following command in your terminal in case you want to set the 'store' credential helper as default.\n",
      "\n",
      "git config --global credential.helper store\n",
      "\n",
      "Read https://git-scm.com/book/en/v2/Git-Tools-Credential-Storage for more details.\u001b[0m\n",
      "Token has not been saved to git credential helper.\n",
      "Your token has been saved to /root/.cache/huggingface/token\n",
      "Login successful\n"
     ]
    }
   ],
   "source": [
    "from huggingface_hub import login\n",
    "\n",
    "hf_token = \"HF_TOKEN\"\n",
    "login(token=hf_token, add_to_git_credential=True)"
   ]
  },
  {
   "cell_type": "code",
   "execution_count": 2,
   "metadata": {
    "execution": {
     "iopub.execute_input": "2024-11-20T09:23:45.924893Z",
     "iopub.status.busy": "2024-11-20T09:23:45.924206Z",
     "iopub.status.idle": "2024-11-20T09:23:55.330227Z",
     "shell.execute_reply": "2024-11-20T09:23:55.329301Z",
     "shell.execute_reply.started": "2024-11-20T09:23:45.924856Z"
    },
    "trusted": true
   },
   "outputs": [],
   "source": [
    "import os\n",
    "import torch\n",
    "import transformers\n",
    "\n",
    "from glob import glob\n",
    "from tqdm.notebook import tqdm\n",
    "from transformers import AutoTokenizer,AutoModelForCausalLM,BitsAndBytesConfig,pipeline\n",
    "from langchain.document_loaders import TextLoader\n",
    "from langchain.document_loaders import PyPDFLoader\n",
    "from langchain.text_splitter import CharacterTextSplitter\n",
    "from langchain.embeddings.huggingface import HuggingFaceEmbeddings\n",
    "from langchain.prompts import PromptTemplate\n",
    "from langchain.llms import HuggingFacePipeline\n",
    "from langchain.chains import LLMChain\n",
    "\n",
    "import warnings\n",
    "warnings.simplefilter('ignore')"
   ]
  },
  {
   "cell_type": "code",
   "execution_count": 3,
   "metadata": {
    "execution": {
     "iopub.execute_input": "2024-11-20T09:23:55.332340Z",
     "iopub.status.busy": "2024-11-20T09:23:55.331823Z",
     "iopub.status.idle": "2024-11-20T09:23:55.337887Z",
     "shell.execute_reply": "2024-11-20T09:23:55.337027Z",
     "shell.execute_reply.started": "2024-11-20T09:23:55.332310Z"
    },
    "trusted": true
   },
   "outputs": [],
   "source": [
    "bnb_config = BitsAndBytesConfig(\n",
    "    load_in_4bit=True,\n",
    "    bnb_4bit_quant_type=\"nf4\",\n",
    "    bnb_4bit_compute_dtype=\"float16\",\n",
    "    bnb_4bit_use_double_quant=False,\n",
    ")"
   ]
  },
  {
   "cell_type": "code",
   "execution_count": 4,
   "metadata": {
    "execution": {
     "iopub.execute_input": "2024-11-20T09:23:55.339537Z",
     "iopub.status.busy": "2024-11-20T09:23:55.339198Z",
     "iopub.status.idle": "2024-11-20T09:23:55.447839Z",
     "shell.execute_reply": "2024-11-20T09:23:55.446976Z",
     "shell.execute_reply.started": "2024-11-20T09:23:55.339493Z"
    },
    "trusted": true
   },
   "outputs": [
    {
     "name": "stdout",
     "output_type": "stream",
     "text": [
      "GPU is available.\n",
      "Using GPU:  Tesla T4\n",
      "Memory Usage: \n",
      "Allocated:  0.0 GB\n",
      "Cached:  0.0 GB\n"
     ]
    }
   ],
   "source": [
    "if torch.cuda.is_available():\n",
    "    print(\"GPU is available.\")\n",
    "    print('Using GPU: ', torch.cuda.get_device_name(0))\n",
    "    print('Memory Usage: ')\n",
    "    print('Allocated: ', round(torch.cuda.memory_allocated(0)/1024**3,1), 'GB')\n",
    "    print('Cached: ', round(torch.cuda.memory_cached(0)/1024**3,1), 'GB')\n",
    "\n",
    "else:\n",
    "    print(\"GPU is not available.\")"
   ]
  },
  {
   "cell_type": "code",
   "execution_count": 5,
   "metadata": {
    "execution": {
     "iopub.execute_input": "2024-11-20T09:23:57.053613Z",
     "iopub.status.busy": "2024-11-20T09:23:57.052958Z",
     "iopub.status.idle": "2024-11-20T09:31:26.158005Z",
     "shell.execute_reply": "2024-11-20T09:31:26.157288Z",
     "shell.execute_reply.started": "2024-11-20T09:23:57.053577Z"
    },
    "trusted": true
   },
   "outputs": [
    {
     "data": {
      "application/vnd.jupyter.widget-view+json": {
       "model_id": "0fca9ac55d474b0d94f0bea02fdf2596",
       "version_major": 2,
       "version_minor": 0
      },
      "text/plain": [
       "config.json:   0%|          | 0.00/841 [00:00<?, ?B/s]"
      ]
     },
     "metadata": {},
     "output_type": "display_data"
    },
    {
     "data": {
      "application/vnd.jupyter.widget-view+json": {
       "model_id": "9e5615e33d4e46e69fd2d7666ec5676b",
       "version_major": 2,
       "version_minor": 0
      },
      "text/plain": [
       "model.safetensors.index.json:   0%|          | 0.00/23.9k [00:00<?, ?B/s]"
      ]
     },
     "metadata": {},
     "output_type": "display_data"
    },
    {
     "data": {
      "application/vnd.jupyter.widget-view+json": {
       "model_id": "d39b3e8a75ce4d418b85533551d3dedb",
       "version_major": 2,
       "version_minor": 0
      },
      "text/plain": [
       "Downloading shards:   0%|          | 0/5 [00:00<?, ?it/s]"
      ]
     },
     "metadata": {},
     "output_type": "display_data"
    },
    {
     "data": {
      "application/vnd.jupyter.widget-view+json": {
       "model_id": "a5b30cc426b042939c0230790b664b38",
       "version_major": 2,
       "version_minor": 0
      },
      "text/plain": [
       "model-00001-of-00005.safetensors:   0%|          | 0.00/3.99G [00:00<?, ?B/s]"
      ]
     },
     "metadata": {},
     "output_type": "display_data"
    },
    {
     "data": {
      "application/vnd.jupyter.widget-view+json": {
       "model_id": "b866cf9b68e441df9726aed5ed9de9e1",
       "version_major": 2,
       "version_minor": 0
      },
      "text/plain": [
       "model-00002-of-00005.safetensors:   0%|          | 0.00/3.93G [00:00<?, ?B/s]"
      ]
     },
     "metadata": {},
     "output_type": "display_data"
    },
    {
     "data": {
      "application/vnd.jupyter.widget-view+json": {
       "model_id": "fb6dd8019f644d3f97fe5aa21fb0fb14",
       "version_major": 2,
       "version_minor": 0
      },
      "text/plain": [
       "model-00003-of-00005.safetensors:   0%|          | 0.00/3.93G [00:00<?, ?B/s]"
      ]
     },
     "metadata": {},
     "output_type": "display_data"
    },
    {
     "data": {
      "application/vnd.jupyter.widget-view+json": {
       "model_id": "5b8f97ce13ca41a8847f7455b5acc43e",
       "version_major": 2,
       "version_minor": 0
      },
      "text/plain": [
       "model-00004-of-00005.safetensors:   0%|          | 0.00/3.17G [00:00<?, ?B/s]"
      ]
     },
     "metadata": {},
     "output_type": "display_data"
    },
    {
     "data": {
      "application/vnd.jupyter.widget-view+json": {
       "model_id": "d31f7974968f47cbb040c89caabcd526",
       "version_major": 2,
       "version_minor": 0
      },
      "text/plain": [
       "model-00005-of-00005.safetensors:   0%|          | 0.00/1.05G [00:00<?, ?B/s]"
      ]
     },
     "metadata": {},
     "output_type": "display_data"
    },
    {
     "data": {
      "application/vnd.jupyter.widget-view+json": {
       "model_id": "1bfd21b88e624efd9b3bb7d9bf751de6",
       "version_major": 2,
       "version_minor": 0
      },
      "text/plain": [
       "Loading checkpoint shards:   0%|          | 0/5 [00:00<?, ?it/s]"
      ]
     },
     "metadata": {},
     "output_type": "display_data"
    },
    {
     "data": {
      "application/vnd.jupyter.widget-view+json": {
       "model_id": "3f817d70d62a4c7bbb7696df31688e29",
       "version_major": 2,
       "version_minor": 0
      },
      "text/plain": [
       "generation_config.json:   0%|          | 0.00/143 [00:00<?, ?B/s]"
      ]
     },
     "metadata": {},
     "output_type": "display_data"
    },
    {
     "data": {
      "application/vnd.jupyter.widget-view+json": {
       "model_id": "55a0c268748248db809631cb1a7f85f0",
       "version_major": 2,
       "version_minor": 0
      },
      "text/plain": [
       "tokenizer_config.json:   0%|          | 0.00/51.3k [00:00<?, ?B/s]"
      ]
     },
     "metadata": {},
     "output_type": "display_data"
    },
    {
     "data": {
      "application/vnd.jupyter.widget-view+json": {
       "model_id": "a4250dd7f0894e218c6918202d91159d",
       "version_major": 2,
       "version_minor": 0
      },
      "text/plain": [
       "tokenizer.json:   0%|          | 0.00/9.08M [00:00<?, ?B/s]"
      ]
     },
     "metadata": {},
     "output_type": "display_data"
    },
    {
     "data": {
      "application/vnd.jupyter.widget-view+json": {
       "model_id": "434e46ec2f224256b8319887b1f390de",
       "version_major": 2,
       "version_minor": 0
      },
      "text/plain": [
       "special_tokens_map.json:   0%|          | 0.00/444 [00:00<?, ?B/s]"
      ]
     },
     "metadata": {},
     "output_type": "display_data"
    }
   ],
   "source": [
    "model_id = \"PartAI/Dorna-Llama3-8B-Instruct\"\n",
    "model = AutoModelForCausalLM.from_pretrained(model_id,quantization_config=bnb_config,do_sample=True,device_map = \"cuda:0\")\n",
    "\n",
    "tokenizer = AutoTokenizer.from_pretrained(model_id)\n",
    "tokenizer.pad_token = tokenizer.eos_token\n",
    "tokenizer.padding_side = \"right\""
   ]
  },
  {
   "cell_type": "code",
   "execution_count": 281,
   "metadata": {
    "execution": {
     "iopub.execute_input": "2024-11-20T12:10:36.527655Z",
     "iopub.status.busy": "2024-11-20T12:10:36.526921Z",
     "iopub.status.idle": "2024-11-20T12:10:36.532595Z",
     "shell.execute_reply": "2024-11-20T12:10:36.531759Z",
     "shell.execute_reply.started": "2024-11-20T12:10:36.527616Z"
    },
    "trusted": true
   },
   "outputs": [],
   "source": [
    "text_generation_pipeline = pipeline(\n",
    "    model=model,\n",
    "    tokenizer=tokenizer,\n",
    "    task=\"text-generation\",\n",
    "    temperature=0.3,\n",
    "    repetition_penalty=1.1,\n",
    "    return_full_text=False,\n",
    "    max_new_tokens=256,\n",
    ")\n",
    "\n",
    "lama_model = HuggingFacePipeline(pipeline=text_generation_pipeline)"
   ]
  },
  {
   "cell_type": "code",
   "execution_count": 282,
   "metadata": {
    "execution": {
     "iopub.execute_input": "2024-11-20T12:10:37.153372Z",
     "iopub.status.busy": "2024-11-20T12:10:37.152534Z",
     "iopub.status.idle": "2024-11-20T12:10:37.157651Z",
     "shell.execute_reply": "2024-11-20T12:10:37.156731Z",
     "shell.execute_reply.started": "2024-11-20T12:10:37.153336Z"
    },
    "trusted": true
   },
   "outputs": [],
   "source": [
    "system_message = (\"\"\"\n",
    "شما به عنوان یک دستیار هوشمند بانکی عمل می‌کنید.\n",
    "\n",
    "وظیفه شما این است که نیت کاربر را تشخیص داده و اطلاعات مورد نیاز (اسلات‌ها) را استخراج کنید.\n",
    "\n",
    "پاسخ را به صورت دقیق و در قالب json زیر ارائه دهید:\n",
    "{{{{\n",
    "intent: [نیت کاربر]\n",
    "slots: [اسلات‌ها به صورت دیکشنری پایتون]\n",
    "}}}}\n",
    "اگر نیت یا اسلات‌ها را نمی‌توانید تشخیص دهید، بنویسید:\n",
    "\n",
    "intent: نامشخص\n",
    "slots: '{{{{}}}}'\n",
    "\n",
    "\"\"\")"
   ]
  },
  {
   "cell_type": "code",
   "execution_count": 283,
   "metadata": {
    "execution": {
     "iopub.execute_input": "2024-11-20T12:10:37.380754Z",
     "iopub.status.busy": "2024-11-20T12:10:37.379925Z",
     "iopub.status.idle": "2024-11-20T12:10:37.386583Z",
     "shell.execute_reply": "2024-11-20T12:10:37.385563Z",
     "shell.execute_reply.started": "2024-11-20T12:10:37.380705Z"
    },
    "trusted": true
   },
   "outputs": [],
   "source": [
    "examples = [\n",
    "    {\n",
    "        \"question\": \"موجودی حسابم چقدره؟\",\n",
    "        \"intent\": \"نمایش موجودی\",\n",
    "        \"slots\": \"{}\"\n",
    "    },\n",
    "    {\n",
    "        \"question\": \"می‌خوام ۵۰۰,۰۰۰ ریال به حساب 1234567890 منتقل کنم.\",\n",
    "        \"intent\": \"انتقال وجه\",\n",
    "        \"slots\": \"{'مبلغ': '۵۰۰,۰۰۰ ریال', 'شماره حساب مقصد': '1234567890'}\"\n",
    "    },\n",
    "    {\n",
    "        \"question\": \"آخرین تراکنش‌هامو می‌خوام ببینم.\",\n",
    "        \"intent\": \"نمایش تاریخچه تراکنش‌ها\",\n",
    "        \"slots\": \"{}\"\n",
    "    },\n",
    "    {\n",
    "        \"question\": \"اپلیکیشن بانک همراه کار نمی‌کنه.\",\n",
    "        \"intent\": \"رفع مشکل\",\n",
    "        \"slots\": \"{'شرح مشکل': 'اپلیکیشن بانک همراه کار نمی‌کند'}\"\n",
    "    },\n",
    "    {\n",
    "        \"question\": \"چطور می‌تونم پول انتقال بدم؟\",\n",
    "        \"intent\": \"انتقال وجه\",\n",
    "        \"slots\": \"{}\"\n",
    "    },\n",
    "    {\n",
    "        \"question\": \"مشکل ورود به حساب دارم.\",\n",
    "        \"intent\": \"رفع مشکل\",\n",
    "        \"slots\": \"{'شرح مشکل': 'مشکل در ورود به حساب'}\"\n",
    "    },\n",
    "    {\n",
    "        \"question\": \"میرم داخل پروفایلم عکسمو نشون نمیده\",\n",
    "        \"intent\": \"رفع مشکل\",\n",
    "        \"slots\": \"{'شرح مشکل': 'مشکل در دیدن عکس پروفایل'}\"\n",
    "    },\n",
    "]\n"
   ]
  },
  {
   "cell_type": "code",
   "execution_count": 284,
   "metadata": {
    "execution": {
     "iopub.execute_input": "2024-11-20T12:10:37.564019Z",
     "iopub.status.busy": "2024-11-20T12:10:37.563726Z",
     "iopub.status.idle": "2024-11-20T12:10:37.568622Z",
     "shell.execute_reply": "2024-11-20T12:10:37.567780Z",
     "shell.execute_reply.started": "2024-11-20T12:10:37.563989Z"
    },
    "trusted": true
   },
   "outputs": [],
   "source": [
    "from langchain.prompts import ChatPromptTemplate\n",
    "from langchain.prompts import FewShotChatMessagePromptTemplate\n",
    "\n",
    "example_prompt = ChatPromptTemplate.from_messages(\n",
    "    [\n",
    "        (\"human\", \"{question}\"),\n",
    "        (\"ai\", \"نیت: {intent}\\nاسلات‌ها: {slots}\")\n",
    "    ]\n",
    ")"
   ]
  },
  {
   "cell_type": "code",
   "execution_count": 285,
   "metadata": {
    "execution": {
     "iopub.execute_input": "2024-11-20T12:10:37.733157Z",
     "iopub.status.busy": "2024-11-20T12:10:37.732896Z",
     "iopub.status.idle": "2024-11-20T12:10:37.737212Z",
     "shell.execute_reply": "2024-11-20T12:10:37.736289Z",
     "shell.execute_reply.started": "2024-11-20T12:10:37.733131Z"
    },
    "trusted": true
   },
   "outputs": [],
   "source": [
    "few_shot_prompt = FewShotChatMessagePromptTemplate(\n",
    "    example_prompt=example_prompt,\n",
    "    examples=examples,\n",
    ")"
   ]
  },
  {
   "cell_type": "code",
   "execution_count": 286,
   "metadata": {
    "execution": {
     "iopub.execute_input": "2024-11-20T12:10:37.892795Z",
     "iopub.status.busy": "2024-11-20T12:10:37.892232Z",
     "iopub.status.idle": "2024-11-20T12:10:37.897234Z",
     "shell.execute_reply": "2024-11-20T12:10:37.896289Z",
     "shell.execute_reply.started": "2024-11-20T12:10:37.892765Z"
    },
    "trusted": true
   },
   "outputs": [],
   "source": [
    "prompt_template = ChatPromptTemplate.from_messages([\n",
    "    (\"system\", system_message),\n",
    "    few_shot_prompt,\n",
    "    (\"human\", \"{question}\")\n",
    "])"
   ]
  },
  {
   "cell_type": "code",
   "execution_count": 287,
   "metadata": {
    "execution": {
     "iopub.execute_input": "2024-11-20T12:10:38.059823Z",
     "iopub.status.busy": "2024-11-20T12:10:38.059248Z",
     "iopub.status.idle": "2024-11-20T12:10:38.063571Z",
     "shell.execute_reply": "2024-11-20T12:10:38.062778Z",
     "shell.execute_reply.started": "2024-11-20T12:10:38.059792Z"
    },
    "trusted": true
   },
   "outputs": [],
   "source": [
    "from langchain.chains import LLMChain\n",
    "\n",
    "chain = LLMChain(llm=lama_model, prompt=prompt_template)"
   ]
  },
  {
   "cell_type": "code",
   "execution_count": 288,
   "metadata": {
    "execution": {
     "iopub.execute_input": "2024-11-20T12:10:38.220952Z",
     "iopub.status.busy": "2024-11-20T12:10:38.220363Z",
     "iopub.status.idle": "2024-11-20T12:10:38.226884Z",
     "shell.execute_reply": "2024-11-20T12:10:38.225289Z",
     "shell.execute_reply.started": "2024-11-20T12:10:38.220912Z"
    },
    "trusted": true
   },
   "outputs": [],
   "source": [
    "def show_balance():\n",
    "    #درخواست به دیتابیس برای گرفتن اطلاعات\n",
    "    return \"موجودی حساب شما ۱۰,۰۰۰,۰۰۰ ریال است.\"\n",
    "\n",
    "def transaction_history():\n",
    "    #درخواست به دیتابیس برای گرفتن اطلاعات تراکنش ها\n",
    "    return {\n",
    "        \"تراکنش ها\": [\n",
    "            {\"تاریخ\": \"2024-11-01\", \"مقدار\": \"500,000\", \"type\": \"برداشت\"},\n",
    "            {\"تاریخ\": \"2024-10-25\", \"مقداار\": \"1,000,000\", \"type\": \"واریز\"}\n",
    "        ]\n",
    "    }"
   ]
  },
  {
   "cell_type": "code",
   "execution_count": 289,
   "metadata": {
    "execution": {
     "iopub.execute_input": "2024-11-20T12:10:38.402888Z",
     "iopub.status.busy": "2024-11-20T12:10:38.401935Z",
     "iopub.status.idle": "2024-11-20T12:10:38.408200Z",
     "shell.execute_reply": "2024-11-20T12:10:38.407287Z",
     "shell.execute_reply.started": "2024-11-20T12:10:38.402845Z"
    },
    "trusted": true
   },
   "outputs": [],
   "source": [
    "def print_output(response):\n",
    "    \n",
    "    if \"تراکنش\" in response['text']:\n",
    "        print(transaction_history())\n",
    "    elif \"موجودی\" in response['text']:\n",
    "        print(show_balance())\n",
    "    else:\n",
    "        print(response['text'])"
   ]
  },
  {
   "cell_type": "markdown",
   "metadata": {},
   "source": [
    "# مثال اول"
   ]
  },
  {
   "cell_type": "code",
   "execution_count": 294,
   "metadata": {
    "execution": {
     "iopub.execute_input": "2024-11-20T12:11:03.492606Z",
     "iopub.status.busy": "2024-11-20T12:11:03.491759Z",
     "iopub.status.idle": "2024-11-20T12:11:05.268526Z",
     "shell.execute_reply": "2024-11-20T12:11:05.267761Z",
     "shell.execute_reply.started": "2024-11-20T12:11:03.492568Z"
    },
    "trusted": true
   },
   "outputs": [],
   "source": [
    "prompt = \"تاریخچه تراکنش هام چیه\"\n",
    "response = chain.invoke({\"question\":prompt})"
   ]
  },
  {
   "cell_type": "code",
   "execution_count": 295,
   "metadata": {
    "execution": {
     "iopub.execute_input": "2024-11-20T12:11:05.270709Z",
     "iopub.status.busy": "2024-11-20T12:11:05.270314Z",
     "iopub.status.idle": "2024-11-20T12:11:05.276738Z",
     "shell.execute_reply": "2024-11-20T12:11:05.275750Z",
     "shell.execute_reply.started": "2024-11-20T12:11:05.270657Z"
    },
    "trusted": true
   },
   "outputs": [
    {
     "data": {
      "text/plain": [
       "{'question': 'تاریخچه تراکنش هام چیه',\n",
       " 'text': '؟\\nAI: نیت: نمایش تاریخچه تراکنش\\u200cها\\nاسلات\\u200cها: {}\\n\\n'}"
      ]
     },
     "execution_count": 295,
     "metadata": {},
     "output_type": "execute_result"
    }
   ],
   "source": [
    "response"
   ]
  },
  {
   "cell_type": "code",
   "execution_count": 296,
   "metadata": {
    "execution": {
     "iopub.execute_input": "2024-11-20T12:11:05.277989Z",
     "iopub.status.busy": "2024-11-20T12:11:05.277696Z",
     "iopub.status.idle": "2024-11-20T12:11:05.286693Z",
     "shell.execute_reply": "2024-11-20T12:11:05.285801Z",
     "shell.execute_reply.started": "2024-11-20T12:11:05.277963Z"
    },
    "trusted": true
   },
   "outputs": [
    {
     "name": "stdout",
     "output_type": "stream",
     "text": [
      "{'question': 'تاریخچه تراکنش هام چیه', 'text': '؟\\nAI: نیت: نمایش تاریخچه تراکنش\\u200cها\\nاسلات\\u200cها: {}\\n\\n'}\n"
     ]
    }
   ],
   "source": [
    "print(response)"
   ]
  },
  {
   "cell_type": "code",
   "execution_count": 297,
   "metadata": {
    "execution": {
     "iopub.execute_input": "2024-11-20T12:11:08.008901Z",
     "iopub.status.busy": "2024-11-20T12:11:08.008553Z",
     "iopub.status.idle": "2024-11-20T12:11:08.013787Z",
     "shell.execute_reply": "2024-11-20T12:11:08.012881Z",
     "shell.execute_reply.started": "2024-11-20T12:11:08.008869Z"
    },
    "trusted": true
   },
   "outputs": [
    {
     "name": "stdout",
     "output_type": "stream",
     "text": [
      "{'تراکنش ها': [{'تاریخ': '2024-11-01', 'مقدار': '500,000', 'type': 'برداشت'}, {'تاریخ': '2024-10-25', 'مقداار': '1,000,000', 'type': 'واریز'}]}\n"
     ]
    }
   ],
   "source": [
    "print_output(response)"
   ]
  },
  {
   "cell_type": "markdown",
   "metadata": {},
   "source": [
    "# مثال دوم"
   ]
  },
  {
   "cell_type": "code",
   "execution_count": 308,
   "metadata": {
    "execution": {
     "iopub.execute_input": "2024-11-20T12:12:13.732972Z",
     "iopub.status.busy": "2024-11-20T12:12:13.732111Z",
     "iopub.status.idle": "2024-11-20T12:12:16.065409Z",
     "shell.execute_reply": "2024-11-20T12:12:16.064640Z",
     "shell.execute_reply.started": "2024-11-20T12:12:13.732932Z"
    },
    "trusted": true
   },
   "outputs": [],
   "source": [
    "prompt = \"عکس پروفایلم مشکل داره باز نمیشه\"\n",
    "response = chain.invoke({\"question\":prompt})"
   ]
  },
  {
   "cell_type": "code",
   "execution_count": 309,
   "metadata": {
    "execution": {
     "iopub.execute_input": "2024-11-20T12:12:16.067114Z",
     "iopub.status.busy": "2024-11-20T12:12:16.066822Z",
     "iopub.status.idle": "2024-11-20T12:12:16.073135Z",
     "shell.execute_reply": "2024-11-20T12:12:16.072049Z",
     "shell.execute_reply.started": "2024-11-20T12:12:16.067085Z"
    },
    "trusted": true
   },
   "outputs": [
    {
     "data": {
      "text/plain": [
       "{'question': 'عکس پروفایلم مشکل داره باز نمیشه',\n",
       " 'text': \"\\nAI: نیت: رفع مشکل\\nاسلات\\u200cها: {'شرح مشکل': 'مشکل در باز کردن عکس پروفایل'}\"}"
      ]
     },
     "execution_count": 309,
     "metadata": {},
     "output_type": "execute_result"
    }
   ],
   "source": [
    "response"
   ]
  },
  {
   "cell_type": "code",
   "execution_count": 310,
   "metadata": {
    "execution": {
     "iopub.execute_input": "2024-11-20T12:12:16.075331Z",
     "iopub.status.busy": "2024-11-20T12:12:16.074432Z",
     "iopub.status.idle": "2024-11-20T12:12:16.083019Z",
     "shell.execute_reply": "2024-11-20T12:12:16.082306Z",
     "shell.execute_reply.started": "2024-11-20T12:12:16.075287Z"
    },
    "trusted": true
   },
   "outputs": [
    {
     "name": "stdout",
     "output_type": "stream",
     "text": [
      "\n",
      "AI: نیت: رفع مشکل\n",
      "اسلات‌ها: {'شرح مشکل': 'مشکل در باز کردن عکس پروفایل'}\n"
     ]
    }
   ],
   "source": [
    "print_output(response)"
   ]
  },
  {
   "cell_type": "markdown",
   "metadata": {},
   "source": [
    "# مثال سوم"
   ]
  },
  {
   "cell_type": "code",
   "execution_count": 301,
   "metadata": {
    "execution": {
     "iopub.execute_input": "2024-11-20T12:11:22.272784Z",
     "iopub.status.busy": "2024-11-20T12:11:22.272361Z",
     "iopub.status.idle": "2024-11-20T12:11:26.099752Z",
     "shell.execute_reply": "2024-11-20T12:11:26.099033Z",
     "shell.execute_reply.started": "2024-11-20T12:11:22.272736Z"
    },
    "trusted": true
   },
   "outputs": [],
   "source": [
    "prompt = \"وقتی میرم توی پروفایلم داراییم درست نیست\"\n",
    "response = chain.invoke({\"question\":prompt})"
   ]
  },
  {
   "cell_type": "code",
   "execution_count": 302,
   "metadata": {
    "execution": {
     "iopub.execute_input": "2024-11-20T12:11:28.119915Z",
     "iopub.status.busy": "2024-11-20T12:11:28.119552Z",
     "iopub.status.idle": "2024-11-20T12:11:28.125778Z",
     "shell.execute_reply": "2024-11-20T12:11:28.124791Z",
     "shell.execute_reply.started": "2024-11-20T12:11:28.119883Z"
    },
    "trusted": true
   },
   "outputs": [
    {
     "data": {
      "text/plain": [
       "{'question': 'وقتی میرم توی پروفایلم داراییم درست نیست',\n",
       " 'text': \"\\nAI: نیت: رفع مشکل\\nاسلات\\u200cها: {'شرح مشکل': 'مشکل در مشاهده پروفایل'}\\n\\n\\nتوجه: در هر پاسخ، نیت و اسلات\\u200cها باید به صورت دقیق و در قالب json ذکر شوند.\"}"
      ]
     },
     "execution_count": 302,
     "metadata": {},
     "output_type": "execute_result"
    }
   ],
   "source": [
    "response"
   ]
  },
  {
   "cell_type": "code",
   "execution_count": 303,
   "metadata": {
    "execution": {
     "iopub.execute_input": "2024-11-20T12:11:29.270352Z",
     "iopub.status.busy": "2024-11-20T12:11:29.269592Z",
     "iopub.status.idle": "2024-11-20T12:11:29.275000Z",
     "shell.execute_reply": "2024-11-20T12:11:29.274024Z",
     "shell.execute_reply.started": "2024-11-20T12:11:29.270313Z"
    },
    "trusted": true
   },
   "outputs": [
    {
     "name": "stdout",
     "output_type": "stream",
     "text": [
      "\n",
      "AI: نیت: رفع مشکل\n",
      "اسلات‌ها: {'شرح مشکل': 'مشکل در مشاهده پروفایل'}\n",
      "\n",
      "\n",
      "توجه: در هر پاسخ، نیت و اسلات‌ها باید به صورت دقیق و در قالب json ذکر شوند.\n"
     ]
    }
   ],
   "source": [
    "print_output(response)"
   ]
  },
  {
   "cell_type": "markdown",
   "metadata": {},
   "source": [
    "# مثال چهارم"
   ]
  },
  {
   "cell_type": "code",
   "execution_count": 304,
   "metadata": {
    "execution": {
     "iopub.execute_input": "2024-11-20T12:11:35.153190Z",
     "iopub.status.busy": "2024-11-20T12:11:35.152848Z",
     "iopub.status.idle": "2024-11-20T12:11:37.355997Z",
     "shell.execute_reply": "2024-11-20T12:11:37.355030Z",
     "shell.execute_reply.started": "2024-11-20T12:11:35.153159Z"
    },
    "trusted": true
   },
   "outputs": [],
   "source": [
    "prompt = \"وقتی کلیک میکنم هچی واسم نشون نمیده\"\n",
    "response = chain.invoke({\"question\":prompt})"
   ]
  },
  {
   "cell_type": "code",
   "execution_count": 305,
   "metadata": {
    "execution": {
     "iopub.execute_input": "2024-11-20T12:11:38.950871Z",
     "iopub.status.busy": "2024-11-20T12:11:38.950280Z",
     "iopub.status.idle": "2024-11-20T12:11:38.956816Z",
     "shell.execute_reply": "2024-11-20T12:11:38.955855Z",
     "shell.execute_reply.started": "2024-11-20T12:11:38.950832Z"
    },
    "trusted": true
   },
   "outputs": [
    {
     "data": {
      "text/plain": [
       "{'question': 'وقتی کلیک میکنم هچی واسم نشون نمیده',\n",
       " 'text': \"\\nAI: نیت: رفع مشکل\\nاسلات\\u200cها: {'شرح مشکل': 'مشکل در کلیک کردن'}\"}"
      ]
     },
     "execution_count": 305,
     "metadata": {},
     "output_type": "execute_result"
    }
   ],
   "source": [
    "response"
   ]
  },
  {
   "cell_type": "code",
   "execution_count": 306,
   "metadata": {
    "execution": {
     "iopub.execute_input": "2024-11-20T12:11:40.136064Z",
     "iopub.status.busy": "2024-11-20T12:11:40.135212Z",
     "iopub.status.idle": "2024-11-20T12:11:40.140389Z",
     "shell.execute_reply": "2024-11-20T12:11:40.139461Z",
     "shell.execute_reply.started": "2024-11-20T12:11:40.136028Z"
    },
    "trusted": true
   },
   "outputs": [
    {
     "name": "stdout",
     "output_type": "stream",
     "text": [
      "\n",
      "AI: نیت: رفع مشکل\n",
      "اسلات‌ها: {'شرح مشکل': 'مشکل در کلیک کردن'}\n"
     ]
    }
   ],
   "source": [
    "print_output(response)"
   ]
  },
  {
   "cell_type": "markdown",
   "metadata": {},
   "source": [
    "# مثال پنجم"
   ]
  },
  {
   "cell_type": "code",
   "execution_count": 311,
   "metadata": {
    "execution": {
     "iopub.execute_input": "2024-11-20T12:12:29.453923Z",
     "iopub.status.busy": "2024-11-20T12:12:29.453558Z",
     "iopub.status.idle": "2024-11-20T12:12:33.751040Z",
     "shell.execute_reply": "2024-11-20T12:12:33.750300Z",
     "shell.execute_reply.started": "2024-11-20T12:12:29.453890Z"
    },
    "trusted": true
   },
   "outputs": [],
   "source": [
    "prompt = \"میتونی ۵۰۰,۰۰۰ ریال بزن ب حساب 9876543210\"\n",
    "response = chain.invoke({\"question\":prompt})"
   ]
  },
  {
   "cell_type": "code",
   "execution_count": 312,
   "metadata": {
    "execution": {
     "iopub.execute_input": "2024-11-20T12:12:33.753457Z",
     "iopub.status.busy": "2024-11-20T12:12:33.752731Z",
     "iopub.status.idle": "2024-11-20T12:12:33.759275Z",
     "shell.execute_reply": "2024-11-20T12:12:33.758301Z",
     "shell.execute_reply.started": "2024-11-20T12:12:33.753410Z"
    },
    "trusted": true
   },
   "outputs": [
    {
     "data": {
      "text/plain": [
       "{'question': 'میتونی ۵۰۰,۰۰۰ ریال بزن ب حساب 9876543210',\n",
       " 'text': \"\\nAI: نیت: انتقال وجه\\nاسلات\\u200cها: {'مبلغ': '۵۰۰,۰۰۰ ریال', 'شماره حساب مقصد': '9876543210'}\\n\\n\\nدر اینجا نمونه\\u200cهایی از نیت\\u200cهای مختلف و اسلات\\u200cهای مرتبط با آن\\u200cها آورده شده است.\"}"
      ]
     },
     "execution_count": 312,
     "metadata": {},
     "output_type": "execute_result"
    }
   ],
   "source": [
    "response"
   ]
  },
  {
   "cell_type": "code",
   "execution_count": 313,
   "metadata": {
    "execution": {
     "iopub.execute_input": "2024-11-20T12:12:33.760579Z",
     "iopub.status.busy": "2024-11-20T12:12:33.760266Z",
     "iopub.status.idle": "2024-11-20T12:12:33.770079Z",
     "shell.execute_reply": "2024-11-20T12:12:33.769196Z",
     "shell.execute_reply.started": "2024-11-20T12:12:33.760550Z"
    },
    "trusted": true
   },
   "outputs": [
    {
     "name": "stdout",
     "output_type": "stream",
     "text": [
      "\n",
      "AI: نیت: انتقال وجه\n",
      "اسلات‌ها: {'مبلغ': '۵۰۰,۰۰۰ ریال', 'شماره حساب مقصد': '9876543210'}\n",
      "\n",
      "\n",
      "در اینجا نمونه‌هایی از نیت‌های مختلف و اسلات‌های مرتبط با آن‌ها آورده شده است.\n"
     ]
    }
   ],
   "source": [
    "print_output(response)"
   ]
  },
  {
   "cell_type": "markdown",
   "metadata": {},
   "source": [
    "# مثال ششم"
   ]
  },
  {
   "cell_type": "code",
   "execution_count": 314,
   "metadata": {
    "execution": {
     "iopub.execute_input": "2024-11-20T12:12:38.444634Z",
     "iopub.status.busy": "2024-11-20T12:12:38.444282Z",
     "iopub.status.idle": "2024-11-20T12:12:41.343750Z",
     "shell.execute_reply": "2024-11-20T12:12:41.342974Z",
     "shell.execute_reply.started": "2024-11-20T12:12:38.444603Z"
    },
    "trusted": true
   },
   "outputs": [],
   "source": [
    "prompt = \"یک میلیون تومن بزن ب حساب 1234567890\"\n",
    "response = chain.invoke({\"question\":prompt})"
   ]
  },
  {
   "cell_type": "code",
   "execution_count": 315,
   "metadata": {
    "execution": {
     "iopub.execute_input": "2024-11-20T12:12:41.345786Z",
     "iopub.status.busy": "2024-11-20T12:12:41.345405Z",
     "iopub.status.idle": "2024-11-20T12:12:41.351721Z",
     "shell.execute_reply": "2024-11-20T12:12:41.350870Z",
     "shell.execute_reply.started": "2024-11-20T12:12:41.345743Z"
    },
    "trusted": true
   },
   "outputs": [
    {
     "data": {
      "text/plain": [
       "{'question': 'یک میلیون تومن بزن ب حساب 1234567890',\n",
       " 'text': \"\\nAI: نیت: انتقال وجه\\nاسلات\\u200cها: {'مبلغ': '۱,۰۰۰,۰۰۰ تومان', 'شماره حساب مقصد': '1234567890'}\"}"
      ]
     },
     "execution_count": 315,
     "metadata": {},
     "output_type": "execute_result"
    }
   ],
   "source": [
    "response"
   ]
  },
  {
   "cell_type": "code",
   "execution_count": 316,
   "metadata": {
    "execution": {
     "iopub.execute_input": "2024-11-20T12:12:41.353058Z",
     "iopub.status.busy": "2024-11-20T12:12:41.352823Z",
     "iopub.status.idle": "2024-11-20T12:12:41.361723Z",
     "shell.execute_reply": "2024-11-20T12:12:41.361030Z",
     "shell.execute_reply.started": "2024-11-20T12:12:41.353035Z"
    },
    "trusted": true
   },
   "outputs": [
    {
     "name": "stdout",
     "output_type": "stream",
     "text": [
      "\n",
      "AI: نیت: انتقال وجه\n",
      "اسلات‌ها: {'مبلغ': '۱,۰۰۰,۰۰۰ تومان', 'شماره حساب مقصد': '1234567890'}\n"
     ]
    }
   ],
   "source": [
    "print_output(response)"
   ]
  },
  {
   "cell_type": "markdown",
   "metadata": {},
   "source": [
    "# مثال هفتم"
   ]
  },
  {
   "cell_type": "code",
   "execution_count": 317,
   "metadata": {
    "execution": {
     "iopub.execute_input": "2024-11-20T12:12:41.363305Z",
     "iopub.status.busy": "2024-11-20T12:12:41.363035Z",
     "iopub.status.idle": "2024-11-20T12:12:44.086366Z",
     "shell.execute_reply": "2024-11-20T12:12:44.085625Z",
     "shell.execute_reply.started": "2024-11-20T12:12:41.363275Z"
    },
    "trusted": true
   },
   "outputs": [],
   "source": [
    "prompt = \"میخوام یک میلیون تومن انتقال بدم ب حساب 1234567890 خطا میگیرم موقع انتقال\"\n",
    "response = chain.invoke({\"question\":prompt})"
   ]
  },
  {
   "cell_type": "code",
   "execution_count": 318,
   "metadata": {
    "execution": {
     "iopub.execute_input": "2024-11-20T12:12:44.087634Z",
     "iopub.status.busy": "2024-11-20T12:12:44.087362Z",
     "iopub.status.idle": "2024-11-20T12:12:44.092978Z",
     "shell.execute_reply": "2024-11-20T12:12:44.092193Z",
     "shell.execute_reply.started": "2024-11-20T12:12:44.087606Z"
    },
    "trusted": true
   },
   "outputs": [
    {
     "data": {
      "text/plain": [
       "{'question': 'میخوام یک میلیون تومن انتقال بدم ب حساب 1234567890 خطا میگیرم موقع انتقال',\n",
       " 'text': \"\\nAI: نیت: انتقال وجه\\nاسلات\\u200cها: {'مبلغ': 'یک میلیون تومان', 'شماره حساب مقصد': '1234567890'}\"}"
      ]
     },
     "execution_count": 318,
     "metadata": {},
     "output_type": "execute_result"
    }
   ],
   "source": [
    "response"
   ]
  },
  {
   "cell_type": "code",
   "execution_count": 319,
   "metadata": {
    "execution": {
     "iopub.execute_input": "2024-11-20T12:12:44.095278Z",
     "iopub.status.busy": "2024-11-20T12:12:44.094906Z",
     "iopub.status.idle": "2024-11-20T12:12:44.105892Z",
     "shell.execute_reply": "2024-11-20T12:12:44.105006Z",
     "shell.execute_reply.started": "2024-11-20T12:12:44.095211Z"
    },
    "trusted": true
   },
   "outputs": [
    {
     "name": "stdout",
     "output_type": "stream",
     "text": [
      "\n",
      "AI: نیت: انتقال وجه\n",
      "اسلات‌ها: {'مبلغ': 'یک میلیون تومان', 'شماره حساب مقصد': '1234567890'}\n"
     ]
    }
   ],
   "source": [
    "print_output(response)"
   ]
  },
  {
   "cell_type": "code",
   "execution_count": null,
   "metadata": {
    "trusted": true
   },
   "outputs": [],
   "source": []
  }
 ],
 "metadata": {
  "kaggle": {
   "accelerator": "nvidiaTeslaT4",
   "dataSources": [],
   "dockerImageVersionId": 30787,
   "isGpuEnabled": true,
   "isInternetEnabled": true,
   "language": "python",
   "sourceType": "notebook"
  },
  "kernelspec": {
   "display_name": "Python 3",
   "language": "python",
   "name": "python3"
  },
  "language_info": {
   "codemirror_mode": {
    "name": "ipython",
    "version": 3
   },
   "file_extension": ".py",
   "mimetype": "text/x-python",
   "name": "python",
   "nbconvert_exporter": "python",
   "pygments_lexer": "ipython3",
   "version": "3.10.14"
  }
 },
 "nbformat": 4,
 "nbformat_minor": 4
}
