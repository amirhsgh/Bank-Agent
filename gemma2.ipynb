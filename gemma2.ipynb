{
 "cells": [
  {
   "cell_type": "code",
   "execution_count": null,
   "metadata": {
    "trusted": true
   },
   "outputs": [],
   "source": [
    "# !pip install langchain_community transformers langchain\n",
    "# !pip install -U bitsandbytes"
   ]
  },
  {
   "cell_type": "code",
   "execution_count": null,
   "metadata": {
    "execution": {
     "iopub.execute_input": "2024-11-19T20:21:19.352261Z",
     "iopub.status.busy": "2024-11-19T20:21:19.351868Z",
     "iopub.status.idle": "2024-11-19T20:21:19.789821Z",
     "shell.execute_reply": "2024-11-19T20:21:19.788745Z",
     "shell.execute_reply.started": "2024-11-19T20:21:19.352227Z"
    },
    "trusted": true
   },
   "outputs": [
    {
     "name": "stdout",
     "output_type": "stream",
     "text": [
      "Token is valid (permission: fineGrained).\n",
      "\u001b[1m\u001b[31mCannot authenticate through git-credential as no helper is defined on your machine.\n",
      "You might have to re-authenticate when pushing to the Hugging Face Hub.\n",
      "Run the following command in your terminal in case you want to set the 'store' credential helper as default.\n",
      "\n",
      "git config --global credential.helper store\n",
      "\n",
      "Read https://git-scm.com/book/en/v2/Git-Tools-Credential-Storage for more details.\u001b[0m\n",
      "Token has not been saved to git credential helper.\n",
      "Your token has been saved to /root/.cache/huggingface/token\n",
      "Login successful\n"
     ]
    }
   ],
   "source": [
    "from huggingface_hub import login\n",
    "\n",
    "hf_token = \"HF_TOKEN\"\n",
    "login(token=hf_token, add_to_git_credential=True)"
   ]
  },
  {
   "cell_type": "code",
   "execution_count": 2,
   "metadata": {
    "execution": {
     "iopub.execute_input": "2024-11-19T20:21:20.610141Z",
     "iopub.status.busy": "2024-11-19T20:21:20.607096Z",
     "iopub.status.idle": "2024-11-19T20:21:27.521928Z",
     "shell.execute_reply": "2024-11-19T20:21:27.521248Z",
     "shell.execute_reply.started": "2024-11-19T20:21:20.610093Z"
    },
    "trusted": true
   },
   "outputs": [],
   "source": [
    "import os\n",
    "import torch\n",
    "import transformers\n",
    "\n",
    "from glob import glob\n",
    "from tqdm.notebook import tqdm\n",
    "from transformers import AutoTokenizer,AutoModelForCausalLM,BitsAndBytesConfig,pipeline\n",
    "from langchain.document_loaders import TextLoader\n",
    "from langchain.document_loaders import PyPDFLoader\n",
    "from langchain.text_splitter import CharacterTextSplitter\n",
    "from langchain.embeddings.huggingface import HuggingFaceEmbeddings\n",
    "from langchain.prompts import PromptTemplate\n",
    "from langchain.llms import HuggingFacePipeline\n",
    "from langchain.chains import LLMChain\n",
    "\n",
    "import warnings\n",
    "warnings.simplefilter('ignore')"
   ]
  },
  {
   "cell_type": "code",
   "execution_count": 3,
   "metadata": {
    "execution": {
     "iopub.execute_input": "2024-11-19T20:21:27.523675Z",
     "iopub.status.busy": "2024-11-19T20:21:27.523188Z",
     "iopub.status.idle": "2024-11-19T20:21:27.528620Z",
     "shell.execute_reply": "2024-11-19T20:21:27.527809Z",
     "shell.execute_reply.started": "2024-11-19T20:21:27.523647Z"
    },
    "trusted": true
   },
   "outputs": [],
   "source": [
    "bnb_config = BitsAndBytesConfig(\n",
    "    load_in_4bit=True,\n",
    "    bnb_4bit_quant_type=\"nf4\",\n",
    "    bnb_4bit_compute_dtype=\"float16\",\n",
    "    bnb_4bit_use_double_quant=False,\n",
    ")"
   ]
  },
  {
   "cell_type": "code",
   "execution_count": 23,
   "metadata": {
    "execution": {
     "iopub.execute_input": "2024-11-19T20:32:16.608787Z",
     "iopub.status.busy": "2024-11-19T20:32:16.608422Z",
     "iopub.status.idle": "2024-11-19T20:32:16.614804Z",
     "shell.execute_reply": "2024-11-19T20:32:16.613925Z",
     "shell.execute_reply.started": "2024-11-19T20:32:16.608753Z"
    },
    "trusted": true
   },
   "outputs": [
    {
     "name": "stdout",
     "output_type": "stream",
     "text": [
      "GPU is available.\n",
      "Using GPU:  Tesla T4\n",
      "Memory Usage: \n",
      "Allocated:  6.4 GB\n",
      "Cached:  7.1 GB\n"
     ]
    }
   ],
   "source": [
    "if torch.cuda.is_available():\n",
    "    print(\"GPU is available.\")\n",
    "    print('Using GPU: ', torch.cuda.get_device_name(0))\n",
    "    print('Memory Usage: ')\n",
    "    print('Allocated: ', round(torch.cuda.memory_allocated(0)/1024**3,1), 'GB')\n",
    "    print('Cached: ', round(torch.cuda.memory_cached(0)/1024**3,1), 'GB')\n",
    "\n",
    "else:\n",
    "    print(\"GPU is not available.\")"
   ]
  },
  {
   "cell_type": "code",
   "execution_count": 5,
   "metadata": {
    "execution": {
     "iopub.execute_input": "2024-11-19T20:21:29.373177Z",
     "iopub.status.busy": "2024-11-19T20:21:29.372303Z",
     "iopub.status.idle": "2024-11-19T20:22:41.935859Z",
     "shell.execute_reply": "2024-11-19T20:22:41.935155Z",
     "shell.execute_reply.started": "2024-11-19T20:21:29.373138Z"
    },
    "trusted": true
   },
   "outputs": [
    {
     "data": {
      "application/vnd.jupyter.widget-view+json": {
       "model_id": "d9071dd4f5a94b6c9efbd945fe747c88",
       "version_major": 2,
       "version_minor": 0
      },
      "text/plain": [
       "Loading checkpoint shards:   0%|          | 0/4 [00:00<?, ?it/s]"
      ]
     },
     "metadata": {},
     "output_type": "display_data"
    }
   ],
   "source": [
    "model_id = \"google/gemma-2-9b-it\"\n",
    "model = AutoModelForCausalLM.from_pretrained(model_id,quantization_config=bnb_config,do_sample=True,device_map = \"cuda:0\")\n",
    "\n",
    "tokenizer = AutoTokenizer.from_pretrained(model_id)\n",
    "tokenizer.pad_token = tokenizer.eos_token\n",
    "tokenizer.padding_side = \"right\""
   ]
  },
  {
   "cell_type": "code",
   "execution_count": 53,
   "metadata": {
    "execution": {
     "iopub.execute_input": "2024-11-19T20:37:43.758818Z",
     "iopub.status.busy": "2024-11-19T20:37:43.758014Z",
     "iopub.status.idle": "2024-11-19T20:37:43.763658Z",
     "shell.execute_reply": "2024-11-19T20:37:43.762703Z",
     "shell.execute_reply.started": "2024-11-19T20:37:43.758784Z"
    },
    "trusted": true
   },
   "outputs": [],
   "source": [
    "text_generation_pipeline = pipeline(\n",
    "    model=model,\n",
    "    tokenizer=tokenizer,\n",
    "    task=\"text-generation\",\n",
    "    temperature=0.2,\n",
    "    repetition_penalty=1.1,\n",
    "    return_full_text=False,\n",
    "    max_new_tokens=200\n",
    ")\n",
    "\n",
    "gemma_model = HuggingFacePipeline(pipeline=text_generation_pipeline)"
   ]
  },
  {
   "cell_type": "code",
   "execution_count": 54,
   "metadata": {
    "execution": {
     "iopub.execute_input": "2024-11-19T20:37:43.954914Z",
     "iopub.status.busy": "2024-11-19T20:37:43.954629Z",
     "iopub.status.idle": "2024-11-19T20:37:43.959593Z",
     "shell.execute_reply": "2024-11-19T20:37:43.958738Z",
     "shell.execute_reply.started": "2024-11-19T20:37:43.954888Z"
    },
    "trusted": true
   },
   "outputs": [],
   "source": [
    "system_message = (\"\"\"\n",
    "شما به عنوان یک دستیار هوشمند بانکی عمل می‌کنید.\n",
    "\n",
    "وظیفه شما این است که نیت کاربر را تشخیص داده و اطلاعات مورد نیاز (اسلات‌ها) را استخراج کنید.\n",
    "\n",
    "پاسخ را به صورت دقیق و در قالب زیر ارائه دهید:\n",
    "\n",
    "نیت: [نیت کاربر]\n",
    "اسلات‌ها: [اسلات‌ها به صورت دیکشنری پایتون]\n",
    "\n",
    "اگر نیت یا اسلات‌ها را نمی‌توانید تشخیص دهید، بنویسید:\n",
    "\n",
    "نیت: نامشخص\n",
    "اسلات‌ها: '{{{{}}}}'\n",
    "\n",
    "مثال‌ها:\n",
    "\n",
    "کاربر: \"موجودی حسابم چقدره؟\"\n",
    "پاسخ:\n",
    "نیت: نمایش موجودی\n",
    "اسلات‌ها: '{{{{}}}}'\n",
    "\n",
    "کاربر: \"می‌خوام ۵۰۰,۰۰۰ ریال به حساب 1234567890 منتقل کنم.\"\n",
    "پاسخ:\n",
    "نیت: انتقال وجه\n",
    "اسلات‌ها: '{{{{'مبلغ': '۵۰۰,۰۰۰ ریال', 'شماره حساب مقصد': '1234567890'}}}}'\n",
    "\n",
    "کاربر: \"اپلیکیشن بانک همراه کار نمی‌کنه.\"\n",
    "پاسخ:\n",
    "نیت: رفع مشکل\n",
    "اسلات‌ها: '{{{{'شرح مشکل': 'اپلیکیشن بانک همراه کار نمی‌کند'}}}}'\n",
    "\n",
    "غیر از این خروجی هیچ خروجی دیگری نده\n",
    "\"\"\")"
   ]
  },
  {
   "cell_type": "code",
   "execution_count": 55,
   "metadata": {
    "execution": {
     "iopub.execute_input": "2024-11-19T20:37:44.115531Z",
     "iopub.status.busy": "2024-11-19T20:37:44.115236Z",
     "iopub.status.idle": "2024-11-19T20:37:44.121003Z",
     "shell.execute_reply": "2024-11-19T20:37:44.120116Z",
     "shell.execute_reply.started": "2024-11-19T20:37:44.115502Z"
    },
    "trusted": true
   },
   "outputs": [],
   "source": [
    "examples = [\n",
    "    {\n",
    "        \"question\": \"موجودی حسابم چقدره؟\",\n",
    "        \"intent\": \"نمایش موجودی\",\n",
    "        \"slots\": \"{}\"\n",
    "    },\n",
    "    {\n",
    "        \"question\": \"می‌خوام ۵۰۰,۰۰۰ ریال به حساب 1234567890 منتقل کنم.\",\n",
    "        \"intent\": \"انتقال وجه\",\n",
    "        \"slots\": \"{'مبلغ': '۵۰۰,۰۰۰ ریال', 'شماره حساب مقصد': '1234567890'}\"\n",
    "    },\n",
    "    {\n",
    "        \"question\": \"آخرین تراکنش‌هامو می‌خوام ببینم.\",\n",
    "        \"intent\": \"نمایش تاریخچه تراکنش‌ها\",\n",
    "        \"slots\": \"{}\"\n",
    "    },\n",
    "    {\n",
    "        \"question\": \"اپلیکیشن بانک همراه کار نمی‌کنه.\",\n",
    "        \"intent\": \"رفع مشکل\",\n",
    "        \"slots\": \"{'شرح مشکل': 'اپلیکیشن بانک همراه کار نمی‌کند'}\"\n",
    "    },\n",
    "    {\n",
    "        \"question\": \"چطور می‌تونم پول انتقال بدم؟\",\n",
    "        \"intent\": \"انتقال وجه\",\n",
    "        \"slots\": \"{}\"\n",
    "    },\n",
    "    {\n",
    "        \"question\": \"مشکل ورود به حساب دارم.\",\n",
    "        \"intent\": \"رفع مشکل\",\n",
    "        \"slots\": \"{'شرح مشکل': 'مشکل در ورود به حساب'}\"\n",
    "    },\n",
    "    {\n",
    "        \"question\": \"میرم داخل پروفایلم عکسمو نشون نمیده\",\n",
    "        \"intent\": \"رفع مشکل\",\n",
    "        \"slots\": \"{'شرح مشکل': 'مشکل در دیدن عکس پروفایل'}\"\n",
    "    },\n",
    "]\n"
   ]
  },
  {
   "cell_type": "code",
   "execution_count": 56,
   "metadata": {
    "execution": {
     "iopub.execute_input": "2024-11-19T20:37:44.260039Z",
     "iopub.status.busy": "2024-11-19T20:37:44.259749Z",
     "iopub.status.idle": "2024-11-19T20:37:44.264796Z",
     "shell.execute_reply": "2024-11-19T20:37:44.263895Z",
     "shell.execute_reply.started": "2024-11-19T20:37:44.260009Z"
    },
    "trusted": true
   },
   "outputs": [],
   "source": [
    "from langchain.prompts import ChatPromptTemplate\n",
    "from langchain.prompts import FewShotChatMessagePromptTemplate\n",
    "\n",
    "example_prompt = ChatPromptTemplate.from_messages(\n",
    "    [\n",
    "        (\"human\", \"{question}\"),\n",
    "        (\"ai\", \"نیت: {intent}\\nاسلات‌ها: {slots}\")\n",
    "    ]\n",
    ")"
   ]
  },
  {
   "cell_type": "code",
   "execution_count": 57,
   "metadata": {
    "execution": {
     "iopub.execute_input": "2024-11-19T20:37:44.411125Z",
     "iopub.status.busy": "2024-11-19T20:37:44.410829Z",
     "iopub.status.idle": "2024-11-19T20:37:44.415077Z",
     "shell.execute_reply": "2024-11-19T20:37:44.414166Z",
     "shell.execute_reply.started": "2024-11-19T20:37:44.411097Z"
    },
    "trusted": true
   },
   "outputs": [],
   "source": [
    "few_shot_prompt = FewShotChatMessagePromptTemplate(\n",
    "    example_prompt=example_prompt,\n",
    "    examples=examples,\n",
    ")"
   ]
  },
  {
   "cell_type": "code",
   "execution_count": 58,
   "metadata": {
    "execution": {
     "iopub.execute_input": "2024-11-19T20:37:44.587443Z",
     "iopub.status.busy": "2024-11-19T20:37:44.586685Z",
     "iopub.status.idle": "2024-11-19T20:37:44.591648Z",
     "shell.execute_reply": "2024-11-19T20:37:44.590829Z",
     "shell.execute_reply.started": "2024-11-19T20:37:44.587409Z"
    },
    "trusted": true
   },
   "outputs": [],
   "source": [
    "prompt = ChatPromptTemplate.from_messages([\n",
    "    (\"system\", system_message),\n",
    "    few_shot_prompt,\n",
    "    (\"human\", \"{question}\")\n",
    "])"
   ]
  },
  {
   "cell_type": "code",
   "execution_count": 59,
   "metadata": {
    "execution": {
     "iopub.execute_input": "2024-11-19T20:37:44.769146Z",
     "iopub.status.busy": "2024-11-19T20:37:44.768845Z",
     "iopub.status.idle": "2024-11-19T20:37:44.773370Z",
     "shell.execute_reply": "2024-11-19T20:37:44.772498Z",
     "shell.execute_reply.started": "2024-11-19T20:37:44.769118Z"
    },
    "trusted": true
   },
   "outputs": [],
   "source": [
    "from langchain.chains import LLMChain\n",
    "\n",
    "chain = LLMChain(llm=gemma_model, prompt=prompt)"
   ]
  },
  {
   "cell_type": "code",
   "execution_count": 60,
   "metadata": {
    "execution": {
     "iopub.execute_input": "2024-11-19T20:37:44.958889Z",
     "iopub.status.busy": "2024-11-19T20:37:44.958196Z",
     "iopub.status.idle": "2024-11-19T20:37:44.963286Z",
     "shell.execute_reply": "2024-11-19T20:37:44.962410Z",
     "shell.execute_reply.started": "2024-11-19T20:37:44.958858Z"
    },
    "trusted": true
   },
   "outputs": [],
   "source": [
    "def show_balance():\n",
    "    #درخواست به دیتابیس برای گرفتن اطلاعات\n",
    "    return \"موجودی حساب شما ۱۰,۰۰۰,۰۰۰ ریال است.\"\n",
    "\n",
    "def transaction_history():\n",
    "    #درخواست به دیتابیس برای گرفتن اطلاعات تراکنش ها\n",
    "    return {\n",
    "        \"تراکنش ها\": [\n",
    "            {\"تاریخ\": \"2024-11-01\", \"مقدار\": \"500,000\", \"type\": \"برداشت\"},\n",
    "            {\"تاریخ\": \"2024-10-25\", \"مقداار\": \"1,000,000\", \"type\": \"واریز\"}\n",
    "        ]\n",
    "    }"
   ]
  },
  {
   "cell_type": "code",
   "execution_count": 61,
   "metadata": {
    "execution": {
     "iopub.execute_input": "2024-11-19T20:37:45.579538Z",
     "iopub.status.busy": "2024-11-19T20:37:45.578810Z",
     "iopub.status.idle": "2024-11-19T20:37:45.584089Z",
     "shell.execute_reply": "2024-11-19T20:37:45.583136Z",
     "shell.execute_reply.started": "2024-11-19T20:37:45.579503Z"
    },
    "trusted": true
   },
   "outputs": [],
   "source": [
    "def print_output(response):\n",
    "    \n",
    "    if \"تراکنش\" in response['text']:\n",
    "        print(transaction_history())\n",
    "    elif \"موجودی\" in response['text']:\n",
    "        print(show_balance())\n",
    "    else:\n",
    "        print(response['text'])"
   ]
  },
  {
   "cell_type": "markdown",
   "metadata": {},
   "source": [
    "# مثال اول"
   ]
  },
  {
   "cell_type": "code",
   "execution_count": 62,
   "metadata": {
    "execution": {
     "iopub.execute_input": "2024-11-19T20:37:46.374014Z",
     "iopub.status.busy": "2024-11-19T20:37:46.373186Z",
     "iopub.status.idle": "2024-11-19T20:37:49.856973Z",
     "shell.execute_reply": "2024-11-19T20:37:49.856017Z",
     "shell.execute_reply.started": "2024-11-19T20:37:46.373951Z"
    },
    "trusted": true
   },
   "outputs": [],
   "source": [
    "prompt = \"تاریخچه تراکنش هام چیه\"\n",
    "response = chain.invoke({\"question\":prompt})"
   ]
  },
  {
   "cell_type": "code",
   "execution_count": 63,
   "metadata": {
    "execution": {
     "iopub.execute_input": "2024-11-19T20:37:51.082786Z",
     "iopub.status.busy": "2024-11-19T20:37:51.081920Z",
     "iopub.status.idle": "2024-11-19T20:37:51.087907Z",
     "shell.execute_reply": "2024-11-19T20:37:51.087099Z",
     "shell.execute_reply.started": "2024-11-19T20:37:51.082751Z"
    },
    "trusted": true
   },
   "outputs": [
    {
     "data": {
      "text/plain": [
       "{'question': 'تاریخچه تراکنش هام چیه',\n",
       " 'text': '؟\\nAI: نیت: نمایش تاریخچه تراکنش\\u200cها\\nاسلات\\u200cها: {}\\n'}"
      ]
     },
     "execution_count": 63,
     "metadata": {},
     "output_type": "execute_result"
    }
   ],
   "source": [
    "response"
   ]
  },
  {
   "cell_type": "code",
   "execution_count": 64,
   "metadata": {
    "execution": {
     "iopub.execute_input": "2024-11-19T20:37:52.837117Z",
     "iopub.status.busy": "2024-11-19T20:37:52.836056Z",
     "iopub.status.idle": "2024-11-19T20:37:52.841283Z",
     "shell.execute_reply": "2024-11-19T20:37:52.840361Z",
     "shell.execute_reply.started": "2024-11-19T20:37:52.837073Z"
    },
    "trusted": true
   },
   "outputs": [
    {
     "name": "stdout",
     "output_type": "stream",
     "text": [
      "{'تراکنش ها': [{'تاریخ': '2024-11-01', 'مقدار': '500,000', 'type': 'برداشت'}, {'تاریخ': '2024-10-25', 'مقداار': '1,000,000', 'type': 'واریز'}]}\n"
     ]
    }
   ],
   "source": [
    "print_output(response)"
   ]
  },
  {
   "cell_type": "markdown",
   "metadata": {},
   "source": [
    "# مثال دوم"
   ]
  },
  {
   "cell_type": "code",
   "execution_count": 65,
   "metadata": {
    "execution": {
     "iopub.execute_input": "2024-11-19T20:37:54.486807Z",
     "iopub.status.busy": "2024-11-19T20:37:54.486420Z",
     "iopub.status.idle": "2024-11-19T20:37:58.645550Z",
     "shell.execute_reply": "2024-11-19T20:37:58.644581Z",
     "shell.execute_reply.started": "2024-11-19T20:37:54.486775Z"
    },
    "trusted": true
   },
   "outputs": [],
   "source": [
    "prompt = \"عکس پروفایلم مشکل داره باز نمیشه\"\n",
    "response = chain.invoke({\"question\":prompt})"
   ]
  },
  {
   "cell_type": "code",
   "execution_count": 66,
   "metadata": {
    "execution": {
     "iopub.execute_input": "2024-11-19T20:37:59.800449Z",
     "iopub.status.busy": "2024-11-19T20:37:59.800093Z",
     "iopub.status.idle": "2024-11-19T20:37:59.805096Z",
     "shell.execute_reply": "2024-11-19T20:37:59.804146Z",
     "shell.execute_reply.started": "2024-11-19T20:37:59.800419Z"
    },
    "trusted": true
   },
   "outputs": [
    {
     "name": "stdout",
     "output_type": "stream",
     "text": [
      "\n",
      "AI: نیت: رفع مشکل\n",
      "اسلات‌ها: {'شرح مشکل': 'عکس پروفایل باز نمی شود'}\n"
     ]
    }
   ],
   "source": [
    "print_output(response)"
   ]
  },
  {
   "cell_type": "markdown",
   "metadata": {},
   "source": [
    "# مثال سوم"
   ]
  },
  {
   "cell_type": "code",
   "execution_count": 67,
   "metadata": {
    "execution": {
     "iopub.execute_input": "2024-11-19T20:38:39.446599Z",
     "iopub.status.busy": "2024-11-19T20:38:39.446217Z",
     "iopub.status.idle": "2024-11-19T20:38:43.755228Z",
     "shell.execute_reply": "2024-11-19T20:38:43.754263Z",
     "shell.execute_reply.started": "2024-11-19T20:38:39.446566Z"
    },
    "trusted": true
   },
   "outputs": [],
   "source": [
    "prompt = \"وقتی میرم توی پروفایلم داراییم درست نیست\"\n",
    "response = chain.invoke({\"question\":prompt})"
   ]
  },
  {
   "cell_type": "code",
   "execution_count": 68,
   "metadata": {
    "execution": {
     "iopub.execute_input": "2024-11-19T20:38:48.611871Z",
     "iopub.status.busy": "2024-11-19T20:38:48.611106Z",
     "iopub.status.idle": "2024-11-19T20:38:48.616389Z",
     "shell.execute_reply": "2024-11-19T20:38:48.615444Z",
     "shell.execute_reply.started": "2024-11-19T20:38:48.611833Z"
    },
    "trusted": true
   },
   "outputs": [
    {
     "name": "stdout",
     "output_type": "stream",
     "text": [
      "\n",
      "AI: نیت: رفع مشکل\n",
      "اسلات‌ها: {'شرح مشکل': 'مشکل در نمایش اطلاعات پروفایل'}\n",
      "\n"
     ]
    }
   ],
   "source": [
    "print_output(response)"
   ]
  },
  {
   "cell_type": "markdown",
   "metadata": {},
   "source": [
    "# مثال چهارم"
   ]
  },
  {
   "cell_type": "code",
   "execution_count": 69,
   "metadata": {
    "execution": {
     "iopub.execute_input": "2024-11-19T20:39:22.771918Z",
     "iopub.status.busy": "2024-11-19T20:39:22.771548Z",
     "iopub.status.idle": "2024-11-19T20:39:27.135733Z",
     "shell.execute_reply": "2024-11-19T20:39:27.134788Z",
     "shell.execute_reply.started": "2024-11-19T20:39:22.771885Z"
    },
    "trusted": true
   },
   "outputs": [],
   "source": [
    "prompt = \"وقتی کلیک میکنم هچی واسم نشون نمیده\"\n",
    "response = chain.invoke({\"question\":prompt})"
   ]
  },
  {
   "cell_type": "code",
   "execution_count": 70,
   "metadata": {
    "execution": {
     "iopub.execute_input": "2024-11-19T20:39:36.847308Z",
     "iopub.status.busy": "2024-11-19T20:39:36.846902Z",
     "iopub.status.idle": "2024-11-19T20:39:36.853030Z",
     "shell.execute_reply": "2024-11-19T20:39:36.851880Z",
     "shell.execute_reply.started": "2024-11-19T20:39:36.847275Z"
    },
    "trusted": true
   },
   "outputs": [
    {
     "name": "stdout",
     "output_type": "stream",
     "text": [
      "\n",
      "AI: نیت: رفع مشکل\n",
      "اسلات‌ها: {'شرح مشکل': 'عدم نمایش اطلاعات پس از کلیک'}\n",
      "\n"
     ]
    }
   ],
   "source": [
    "print_output(response)"
   ]
  },
  {
   "cell_type": "markdown",
   "metadata": {},
   "source": [
    "# مثال پنجم"
   ]
  },
  {
   "cell_type": "code",
   "execution_count": 71,
   "metadata": {
    "execution": {
     "iopub.execute_input": "2024-11-19T20:39:58.363756Z",
     "iopub.status.busy": "2024-11-19T20:39:58.363378Z",
     "iopub.status.idle": "2024-11-19T20:40:05.028375Z",
     "shell.execute_reply": "2024-11-19T20:40:05.027662Z",
     "shell.execute_reply.started": "2024-11-19T20:39:58.363723Z"
    },
    "trusted": true
   },
   "outputs": [],
   "source": [
    "prompt = \"میتونی ۵۰۰,۰۰۰ ریال بزن ب حساب 9876543210\"\n",
    "response = chain.invoke({\"question\":prompt})"
   ]
  },
  {
   "cell_type": "code",
   "execution_count": 72,
   "metadata": {
    "execution": {
     "iopub.execute_input": "2024-11-19T20:40:07.109334Z",
     "iopub.status.busy": "2024-11-19T20:40:07.108611Z",
     "iopub.status.idle": "2024-11-19T20:40:07.113933Z",
     "shell.execute_reply": "2024-11-19T20:40:07.112952Z",
     "shell.execute_reply.started": "2024-11-19T20:40:07.109296Z"
    },
    "trusted": true
   },
   "outputs": [
    {
     "name": "stdout",
     "output_type": "stream",
     "text": [
      "؟\n",
      "AI: نیت: انتقال وجه\n",
      "اسلات‌ها: {'مبلغ': '۵۰۰,۰۰۰ ریال', 'شماره حساب مقصد': '9876543210'}\n"
     ]
    }
   ],
   "source": [
    "print_output(response)"
   ]
  },
  {
   "cell_type": "markdown",
   "metadata": {},
   "source": [
    "# مثال ششم"
   ]
  },
  {
   "cell_type": "code",
   "execution_count": 73,
   "metadata": {
    "execution": {
     "iopub.execute_input": "2024-11-19T20:40:30.381351Z",
     "iopub.status.busy": "2024-11-19T20:40:30.380988Z",
     "iopub.status.idle": "2024-11-19T20:40:36.743891Z",
     "shell.execute_reply": "2024-11-19T20:40:36.742886Z",
     "shell.execute_reply.started": "2024-11-19T20:40:30.381320Z"
    },
    "trusted": true
   },
   "outputs": [],
   "source": [
    "prompt = \"یک میلیون تومن بزن ب حساب 1234567890\"\n",
    "response = chain.invoke({\"question\":prompt})"
   ]
  },
  {
   "cell_type": "code",
   "execution_count": 74,
   "metadata": {
    "execution": {
     "iopub.execute_input": "2024-11-19T20:40:40.107834Z",
     "iopub.status.busy": "2024-11-19T20:40:40.107168Z",
     "iopub.status.idle": "2024-11-19T20:40:40.112308Z",
     "shell.execute_reply": "2024-11-19T20:40:40.111371Z",
     "shell.execute_reply.started": "2024-11-19T20:40:40.107796Z"
    },
    "trusted": true
   },
   "outputs": [
    {
     "name": "stdout",
     "output_type": "stream",
     "text": [
      "\n",
      "AI: نیت: انتقال وجه\n",
      "اسلات‌ها: {'مبلغ': 'یک میلیون تومن', 'شماره حساب مقصد': '1234567890'}\n",
      "\n"
     ]
    }
   ],
   "source": [
    "print_output(response)"
   ]
  },
  {
   "cell_type": "markdown",
   "metadata": {},
   "source": [
    "# مثال هفتم"
   ]
  },
  {
   "cell_type": "code",
   "execution_count": 78,
   "metadata": {
    "execution": {
     "iopub.execute_input": "2024-11-19T20:44:53.130861Z",
     "iopub.status.busy": "2024-11-19T20:44:53.130473Z",
     "iopub.status.idle": "2024-11-19T20:44:59.221720Z",
     "shell.execute_reply": "2024-11-19T20:44:59.220978Z",
     "shell.execute_reply.started": "2024-11-19T20:44:53.130827Z"
    },
    "trusted": true
   },
   "outputs": [],
   "source": [
    "prompt = \"میخوام یک میلیون تومن انتقال بدم ب حساب 1234567890 خطا میگیرم موقع انتقال\"\n",
    "response = chain.invoke({\"question\":prompt})"
   ]
  },
  {
   "cell_type": "code",
   "execution_count": 79,
   "metadata": {
    "execution": {
     "iopub.execute_input": "2024-11-19T20:45:00.194706Z",
     "iopub.status.busy": "2024-11-19T20:45:00.193826Z",
     "iopub.status.idle": "2024-11-19T20:45:00.199858Z",
     "shell.execute_reply": "2024-11-19T20:45:00.198913Z",
     "shell.execute_reply.started": "2024-11-19T20:45:00.194669Z"
    },
    "trusted": true
   },
   "outputs": [
    {
     "data": {
      "text/plain": [
       "{'question': 'میخوام یک میلیون تومن انتقال بدم ب حساب 1234567890 خطا میگیرم موقع انتقال',\n",
       " 'text': \"\\nAI: نیت: انتقال وجه\\nاسلات\\u200cها: {'مبلغ': 'یک میلیون تومن', 'شماره حساب مقصد': '1234567890'}\"}"
      ]
     },
     "execution_count": 79,
     "metadata": {},
     "output_type": "execute_result"
    }
   ],
   "source": [
    "response"
   ]
  },
  {
   "cell_type": "code",
   "execution_count": 80,
   "metadata": {
    "execution": {
     "iopub.execute_input": "2024-11-19T20:45:03.081535Z",
     "iopub.status.busy": "2024-11-19T20:45:03.080759Z",
     "iopub.status.idle": "2024-11-19T20:45:03.085935Z",
     "shell.execute_reply": "2024-11-19T20:45:03.084901Z",
     "shell.execute_reply.started": "2024-11-19T20:45:03.081494Z"
    },
    "trusted": true
   },
   "outputs": [
    {
     "name": "stdout",
     "output_type": "stream",
     "text": [
      "\n",
      "AI: نیت: انتقال وجه\n",
      "اسلات‌ها: {'مبلغ': 'یک میلیون تومن', 'شماره حساب مقصد': '1234567890'}\n"
     ]
    }
   ],
   "source": [
    "print_output(response)"
   ]
  },
  {
   "cell_type": "code",
   "execution_count": null,
   "metadata": {
    "trusted": true
   },
   "outputs": [],
   "source": []
  }
 ],
 "metadata": {
  "kaggle": {
   "accelerator": "nvidiaTeslaT4",
   "dataSources": [
    {
     "isSourceIdPinned": true,
     "modelId": 76277,
     "modelInstanceId": 58215,
     "sourceId": 69765,
     "sourceType": "modelInstanceVersion"
    }
   ],
   "dockerImageVersionId": 30787,
   "isGpuEnabled": true,
   "isInternetEnabled": true,
   "language": "python",
   "sourceType": "notebook"
  },
  "kernelspec": {
   "display_name": "Python 3",
   "language": "python",
   "name": "python3"
  },
  "language_info": {
   "codemirror_mode": {
    "name": "ipython",
    "version": 3
   },
   "file_extension": ".py",
   "mimetype": "text/x-python",
   "name": "python",
   "nbconvert_exporter": "python",
   "pygments_lexer": "ipython3",
   "version": "3.10.14"
  }
 },
 "nbformat": 4,
 "nbformat_minor": 4
}
